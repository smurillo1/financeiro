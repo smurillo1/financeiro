{
 "cells": [
  {
   "cell_type": "code",
   "execution_count": 323,
   "metadata": {},
   "outputs": [],
   "source": [
    "import pandas as pd\n",
    "\n",
    "import matplotlib.pyplot as plt\n",
    "import seaborn as sns"
   ]
  },
  {
   "cell_type": "code",
   "execution_count": 324,
   "metadata": {},
   "outputs": [],
   "source": [
    "accounts = pd.read_csv(r'accounts.csv')\n",
    "person = pd.read_csv(r'person.csv')\n",
    "transactions = pd.read_csv(r'transactions.csv')"
   ]
  },
  {
   "cell_type": "code",
   "execution_count": 325,
   "metadata": {},
   "outputs": [
    {
     "name": "stdout",
     "output_type": "stream",
     "text": [
      "<class 'pandas.core.frame.DataFrame'>\n",
      "RangeIndex: 7569 entries, 0 to 7568\n",
      "Data columns (total 9 columns):\n",
      " #   Column         Non-Null Count  Dtype  \n",
      "---  ------         --------------  -----  \n",
      " 0   id             7569 non-null   object \n",
      " 1   type           7569 non-null   object \n",
      " 2   subtype        7569 non-null   object \n",
      " 3   balance        7569 non-null   float64\n",
      " 4   currency_code  7569 non-null   object \n",
      " 5   name           7569 non-null   object \n",
      " 6   person_id      7569 non-null   object \n",
      " 7   account_id     7569 non-null   object \n",
      " 8   date           7569 non-null   object \n",
      "dtypes: float64(1), object(8)\n",
      "memory usage: 532.3+ KB\n"
     ]
    }
   ],
   "source": [
    "accounts.info()"
   ]
  },
  {
   "cell_type": "code",
   "execution_count": 326,
   "metadata": {},
   "outputs": [
    {
     "name": "stdout",
     "output_type": "stream",
     "text": [
      "<class 'pandas.core.frame.DataFrame'>\n",
      "RangeIndex: 2531 entries, 0 to 2530\n",
      "Data columns (total 3 columns):\n",
      " #   Column       Non-Null Count  Dtype \n",
      "---  ------       --------------  ----- \n",
      " 0   id           2531 non-null   object\n",
      " 1   name         2531 non-null   object\n",
      " 2   suitability  2084 non-null   object\n",
      "dtypes: object(3)\n",
      "memory usage: 59.4+ KB\n"
     ]
    }
   ],
   "source": [
    "person.info()"
   ]
  },
  {
   "cell_type": "code",
   "execution_count": 327,
   "metadata": {},
   "outputs": [
    {
     "name": "stdout",
     "output_type": "stream",
     "text": [
      "<class 'pandas.core.frame.DataFrame'>\n",
      "RangeIndex: 400110 entries, 0 to 400109\n",
      "Data columns (total 6 columns):\n",
      " #   Column         Non-Null Count   Dtype  \n",
      "---  ------         --------------   -----  \n",
      " 0   id             400110 non-null  object \n",
      " 1   currency_code  400110 non-null  object \n",
      " 2   amount         400110 non-null  float64\n",
      " 3   date           400110 non-null  object \n",
      " 4   category       368501 non-null  object \n",
      " 5   account_id     400110 non-null  object \n",
      "dtypes: float64(1), object(5)\n",
      "memory usage: 18.3+ MB\n"
     ]
    }
   ],
   "source": [
    "transactions.info()"
   ]
  },
  {
   "cell_type": "markdown",
   "metadata": {},
   "source": [
    "- currency_code\n",
    "- suitability"
   ]
  },
  {
   "cell_type": "code",
   "execution_count": 328,
   "metadata": {},
   "outputs": [
    {
     "data": {
      "text/html": [
       "<div>\n",
       "<style scoped>\n",
       "    .dataframe tbody tr th:only-of-type {\n",
       "        vertical-align: middle;\n",
       "    }\n",
       "\n",
       "    .dataframe tbody tr th {\n",
       "        vertical-align: top;\n",
       "    }\n",
       "\n",
       "    .dataframe thead th {\n",
       "        text-align: right;\n",
       "    }\n",
       "</style>\n",
       "<table border=\"1\" class=\"dataframe\">\n",
       "  <thead>\n",
       "    <tr style=\"text-align: right;\">\n",
       "      <th></th>\n",
       "      <th>id</th>\n",
       "      <th>type</th>\n",
       "      <th>subtype</th>\n",
       "      <th>balance</th>\n",
       "      <th>currency_code</th>\n",
       "      <th>name</th>\n",
       "      <th>person_id</th>\n",
       "      <th>account_id</th>\n",
       "      <th>date</th>\n",
       "    </tr>\n",
       "  </thead>\n",
       "  <tbody>\n",
       "    <tr>\n",
       "      <th>0</th>\n",
       "      <td>1968bd13-dd25-4f88-bccc-5cff92d6811b</td>\n",
       "      <td>BANK</td>\n",
       "      <td>SAVINGS_ACCOUNT</td>\n",
       "      <td>3826.72</td>\n",
       "      <td>BRL</td>\n",
       "      <td>Caixinha</td>\n",
       "      <td>644f5d18-5bfa-45f9-8aa7-401c05b3b9f2</td>\n",
       "      <td>1968bd13-dd25-4f88-bccc-5cff92d6811b</td>\n",
       "      <td>2023-09-14 14:03:16</td>\n",
       "    </tr>\n",
       "    <tr>\n",
       "      <th>1</th>\n",
       "      <td>978f92cf-8d5b-437a-a046-cdaa9105624c</td>\n",
       "      <td>CREDIT</td>\n",
       "      <td>CREDIT_CARD</td>\n",
       "      <td>6311.67</td>\n",
       "      <td>BRL</td>\n",
       "      <td>Cartão de Crédito</td>\n",
       "      <td>644f5d18-5bfa-45f9-8aa7-401c05b3b9f2</td>\n",
       "      <td>978f92cf-8d5b-437a-a046-cdaa9105624c</td>\n",
       "      <td>2023-09-15 15:50:21</td>\n",
       "    </tr>\n",
       "    <tr>\n",
       "      <th>2</th>\n",
       "      <td>dcd96f70-8b16-42b0-a944-afec5d8305ce</td>\n",
       "      <td>CREDIT</td>\n",
       "      <td>CREDIT_CARD</td>\n",
       "      <td>7482.25</td>\n",
       "      <td>BRL</td>\n",
       "      <td>Cartão de Crédito</td>\n",
       "      <td>644f5d18-5bfa-45f9-8aa7-401c05b3b9f2</td>\n",
       "      <td>dcd96f70-8b16-42b0-a944-afec5d8305ce</td>\n",
       "      <td>2023-09-09 03:38:49</td>\n",
       "    </tr>\n",
       "    <tr>\n",
       "      <th>3</th>\n",
       "      <td>6c2a44fe-2ba7-4626-aaff-f244a0647eae</td>\n",
       "      <td>BANK</td>\n",
       "      <td>SAVINGS_ACCOUNT</td>\n",
       "      <td>5740.29</td>\n",
       "      <td>BRL</td>\n",
       "      <td>Caixinha</td>\n",
       "      <td>644f5d18-5bfa-45f9-8aa7-401c05b3b9f2</td>\n",
       "      <td>6c2a44fe-2ba7-4626-aaff-f244a0647eae</td>\n",
       "      <td>2023-09-12 14:21:21</td>\n",
       "    </tr>\n",
       "    <tr>\n",
       "      <th>4</th>\n",
       "      <td>abb359a2-3802-48e7-976b-8671e1de0884</td>\n",
       "      <td>BANK</td>\n",
       "      <td>CHECKING_ACCOUNT</td>\n",
       "      <td>5136.49</td>\n",
       "      <td>BRL</td>\n",
       "      <td>Conta Corrente</td>\n",
       "      <td>644f5d18-5bfa-45f9-8aa7-401c05b3b9f2</td>\n",
       "      <td>abb359a2-3802-48e7-976b-8671e1de0884</td>\n",
       "      <td>2023-09-12 04:10:04</td>\n",
       "    </tr>\n",
       "  </tbody>\n",
       "</table>\n",
       "</div>"
      ],
      "text/plain": [
       "                                     id    type           subtype  balance  \\\n",
       "0  1968bd13-dd25-4f88-bccc-5cff92d6811b    BANK   SAVINGS_ACCOUNT  3826.72   \n",
       "1  978f92cf-8d5b-437a-a046-cdaa9105624c  CREDIT       CREDIT_CARD  6311.67   \n",
       "2  dcd96f70-8b16-42b0-a944-afec5d8305ce  CREDIT       CREDIT_CARD  7482.25   \n",
       "3  6c2a44fe-2ba7-4626-aaff-f244a0647eae    BANK   SAVINGS_ACCOUNT  5740.29   \n",
       "4  abb359a2-3802-48e7-976b-8671e1de0884    BANK  CHECKING_ACCOUNT  5136.49   \n",
       "\n",
       "  currency_code               name                             person_id  \\\n",
       "0           BRL           Caixinha  644f5d18-5bfa-45f9-8aa7-401c05b3b9f2   \n",
       "1           BRL  Cartão de Crédito  644f5d18-5bfa-45f9-8aa7-401c05b3b9f2   \n",
       "2           BRL  Cartão de Crédito  644f5d18-5bfa-45f9-8aa7-401c05b3b9f2   \n",
       "3           BRL           Caixinha  644f5d18-5bfa-45f9-8aa7-401c05b3b9f2   \n",
       "4           BRL     Conta Corrente  644f5d18-5bfa-45f9-8aa7-401c05b3b9f2   \n",
       "\n",
       "                             account_id                 date  \n",
       "0  1968bd13-dd25-4f88-bccc-5cff92d6811b  2023-09-14 14:03:16  \n",
       "1  978f92cf-8d5b-437a-a046-cdaa9105624c  2023-09-15 15:50:21  \n",
       "2  dcd96f70-8b16-42b0-a944-afec5d8305ce  2023-09-09 03:38:49  \n",
       "3  6c2a44fe-2ba7-4626-aaff-f244a0647eae  2023-09-12 14:21:21  \n",
       "4  abb359a2-3802-48e7-976b-8671e1de0884  2023-09-12 04:10:04  "
      ]
     },
     "execution_count": 328,
     "metadata": {},
     "output_type": "execute_result"
    }
   ],
   "source": [
    "accounts.head()\n"
   ]
  },
  {
   "cell_type": "code",
   "execution_count": 329,
   "metadata": {},
   "outputs": [
    {
     "data": {
      "text/html": [
       "<div>\n",
       "<style scoped>\n",
       "    .dataframe tbody tr th:only-of-type {\n",
       "        vertical-align: middle;\n",
       "    }\n",
       "\n",
       "    .dataframe tbody tr th {\n",
       "        vertical-align: top;\n",
       "    }\n",
       "\n",
       "    .dataframe thead th {\n",
       "        text-align: right;\n",
       "    }\n",
       "</style>\n",
       "<table border=\"1\" class=\"dataframe\">\n",
       "  <thead>\n",
       "    <tr style=\"text-align: right;\">\n",
       "      <th>subtype</th>\n",
       "      <th>CHECKING_ACCOUNT</th>\n",
       "      <th>CREDIT_CARD</th>\n",
       "      <th>SAVINGS_ACCOUNT</th>\n",
       "    </tr>\n",
       "    <tr>\n",
       "      <th>name</th>\n",
       "      <th></th>\n",
       "      <th></th>\n",
       "      <th></th>\n",
       "    </tr>\n",
       "  </thead>\n",
       "  <tbody>\n",
       "    <tr>\n",
       "      <th>Caixinha</th>\n",
       "      <td>0</td>\n",
       "      <td>0</td>\n",
       "      <td>792</td>\n",
       "    </tr>\n",
       "    <tr>\n",
       "      <th>Cartão de Crédito</th>\n",
       "      <td>0</td>\n",
       "      <td>2619</td>\n",
       "      <td>0</td>\n",
       "    </tr>\n",
       "    <tr>\n",
       "      <th>Conta Corrente</th>\n",
       "      <td>2509</td>\n",
       "      <td>0</td>\n",
       "      <td>0</td>\n",
       "    </tr>\n",
       "    <tr>\n",
       "      <th>Conta Remunerada</th>\n",
       "      <td>0</td>\n",
       "      <td>0</td>\n",
       "      <td>804</td>\n",
       "    </tr>\n",
       "    <tr>\n",
       "      <th>Poupança</th>\n",
       "      <td>0</td>\n",
       "      <td>0</td>\n",
       "      <td>845</td>\n",
       "    </tr>\n",
       "  </tbody>\n",
       "</table>\n",
       "</div>"
      ],
      "text/plain": [
       "subtype            CHECKING_ACCOUNT  CREDIT_CARD  SAVINGS_ACCOUNT\n",
       "name                                                             \n",
       "Caixinha                          0            0              792\n",
       "Cartão de Crédito                 0         2619                0\n",
       "Conta Corrente                 2509            0                0\n",
       "Conta Remunerada                  0            0              804\n",
       "Poupança                          0            0              845"
      ]
     },
     "execution_count": 329,
     "metadata": {},
     "output_type": "execute_result"
    }
   ],
   "source": [
    "pd.crosstab(accounts['name'], accounts['subtype'])"
   ]
  },
  {
   "cell_type": "code",
   "execution_count": 330,
   "metadata": {},
   "outputs": [
    {
     "data": {
      "text/html": [
       "<div>\n",
       "<style scoped>\n",
       "    .dataframe tbody tr th:only-of-type {\n",
       "        vertical-align: middle;\n",
       "    }\n",
       "\n",
       "    .dataframe tbody tr th {\n",
       "        vertical-align: top;\n",
       "    }\n",
       "\n",
       "    .dataframe thead th {\n",
       "        text-align: right;\n",
       "    }\n",
       "</style>\n",
       "<table border=\"1\" class=\"dataframe\">\n",
       "  <thead>\n",
       "    <tr style=\"text-align: right;\">\n",
       "      <th></th>\n",
       "      <th>id</th>\n",
       "      <th>name</th>\n",
       "      <th>suitability</th>\n",
       "    </tr>\n",
       "  </thead>\n",
       "  <tbody>\n",
       "    <tr>\n",
       "      <th>0</th>\n",
       "      <td>644f5d18-5bfa-45f9-8aa7-401c05b3b9f2</td>\n",
       "      <td>Ana Julia Santos</td>\n",
       "      <td>conservador</td>\n",
       "    </tr>\n",
       "    <tr>\n",
       "      <th>1</th>\n",
       "      <td>01018c18-ecb5-4cb6-b16f-bece97935974</td>\n",
       "      <td>Emilly Moura</td>\n",
       "      <td>moderado-agressivo</td>\n",
       "    </tr>\n",
       "    <tr>\n",
       "      <th>2</th>\n",
       "      <td>65d3336e-dafd-4663-8a53-97792c847074</td>\n",
       "      <td>Luiz Miguel Caldeira</td>\n",
       "      <td>conservador</td>\n",
       "    </tr>\n",
       "    <tr>\n",
       "      <th>3</th>\n",
       "      <td>6a33c027-13f2-4fbf-8bbb-74e6438d11c8</td>\n",
       "      <td>Sarah Souza</td>\n",
       "      <td>moderado-conservador</td>\n",
       "    </tr>\n",
       "    <tr>\n",
       "      <th>4</th>\n",
       "      <td>55252085-c5d6-4b7d-b221-fd3ad76ba8e5</td>\n",
       "      <td>Samuel Oliveira</td>\n",
       "      <td>moderado-agressivo</td>\n",
       "    </tr>\n",
       "  </tbody>\n",
       "</table>\n",
       "</div>"
      ],
      "text/plain": [
       "                                     id                  name  \\\n",
       "0  644f5d18-5bfa-45f9-8aa7-401c05b3b9f2      Ana Julia Santos   \n",
       "1  01018c18-ecb5-4cb6-b16f-bece97935974          Emilly Moura   \n",
       "2  65d3336e-dafd-4663-8a53-97792c847074  Luiz Miguel Caldeira   \n",
       "3  6a33c027-13f2-4fbf-8bbb-74e6438d11c8           Sarah Souza   \n",
       "4  55252085-c5d6-4b7d-b221-fd3ad76ba8e5       Samuel Oliveira   \n",
       "\n",
       "            suitability  \n",
       "0           conservador  \n",
       "1    moderado-agressivo  \n",
       "2           conservador  \n",
       "3  moderado-conservador  \n",
       "4    moderado-agressivo  "
      ]
     },
     "execution_count": 330,
     "metadata": {},
     "output_type": "execute_result"
    }
   ],
   "source": [
    "person.head()"
   ]
  },
  {
   "cell_type": "code",
   "execution_count": 331,
   "metadata": {},
   "outputs": [
    {
     "data": {
      "text/html": [
       "<div>\n",
       "<style scoped>\n",
       "    .dataframe tbody tr th:only-of-type {\n",
       "        vertical-align: middle;\n",
       "    }\n",
       "\n",
       "    .dataframe tbody tr th {\n",
       "        vertical-align: top;\n",
       "    }\n",
       "\n",
       "    .dataframe thead th {\n",
       "        text-align: right;\n",
       "    }\n",
       "</style>\n",
       "<table border=\"1\" class=\"dataframe\">\n",
       "  <thead>\n",
       "    <tr style=\"text-align: right;\">\n",
       "      <th></th>\n",
       "      <th>suitability</th>\n",
       "      <th>proportion</th>\n",
       "    </tr>\n",
       "  </thead>\n",
       "  <tbody>\n",
       "    <tr>\n",
       "      <th>0</th>\n",
       "      <td>agressivo</td>\n",
       "      <td>0.213052</td>\n",
       "    </tr>\n",
       "    <tr>\n",
       "      <th>1</th>\n",
       "      <td>conservador</td>\n",
       "      <td>0.202495</td>\n",
       "    </tr>\n",
       "    <tr>\n",
       "      <th>2</th>\n",
       "      <td>moderado-agressivo</td>\n",
       "      <td>0.201536</td>\n",
       "    </tr>\n",
       "    <tr>\n",
       "      <th>3</th>\n",
       "      <td>moderado</td>\n",
       "      <td>0.196737</td>\n",
       "    </tr>\n",
       "    <tr>\n",
       "      <th>4</th>\n",
       "      <td>moderado-conservador</td>\n",
       "      <td>0.186180</td>\n",
       "    </tr>\n",
       "  </tbody>\n",
       "</table>\n",
       "</div>"
      ],
      "text/plain": [
       "            suitability  proportion\n",
       "0             agressivo    0.213052\n",
       "1           conservador    0.202495\n",
       "2    moderado-agressivo    0.201536\n",
       "3              moderado    0.196737\n",
       "4  moderado-conservador    0.186180"
      ]
     },
     "execution_count": 331,
     "metadata": {},
     "output_type": "execute_result"
    }
   ],
   "source": [
    "person['suitability'].value_counts(True).reset_index()"
   ]
  },
  {
   "cell_type": "code",
   "execution_count": 332,
   "metadata": {},
   "outputs": [
    {
     "data": {
      "text/html": [
       "<div>\n",
       "<style scoped>\n",
       "    .dataframe tbody tr th:only-of-type {\n",
       "        vertical-align: middle;\n",
       "    }\n",
       "\n",
       "    .dataframe tbody tr th {\n",
       "        vertical-align: top;\n",
       "    }\n",
       "\n",
       "    .dataframe thead th {\n",
       "        text-align: right;\n",
       "    }\n",
       "</style>\n",
       "<table border=\"1\" class=\"dataframe\">\n",
       "  <thead>\n",
       "    <tr style=\"text-align: right;\">\n",
       "      <th></th>\n",
       "      <th>id</th>\n",
       "      <th>currency_code</th>\n",
       "      <th>amount</th>\n",
       "      <th>date</th>\n",
       "      <th>category</th>\n",
       "      <th>account_id</th>\n",
       "    </tr>\n",
       "  </thead>\n",
       "  <tbody>\n",
       "    <tr>\n",
       "      <th>0</th>\n",
       "      <td>b7ebd81b-98f7-47ab-91f3-52bc80be57a6</td>\n",
       "      <td>BRL</td>\n",
       "      <td>-498.71</td>\n",
       "      <td>2023-07-20 03:57:57</td>\n",
       "      <td>Educação</td>\n",
       "      <td>1968bd13-dd25-4f88-bccc-5cff92d6811b</td>\n",
       "    </tr>\n",
       "    <tr>\n",
       "      <th>1</th>\n",
       "      <td>b8d83679-02ab-4241-b15d-11e9c0033864</td>\n",
       "      <td>BRL</td>\n",
       "      <td>-265.00</td>\n",
       "      <td>2023-07-23 05:17:06</td>\n",
       "      <td>Outras saídas</td>\n",
       "      <td>1968bd13-dd25-4f88-bccc-5cff92d6811b</td>\n",
       "    </tr>\n",
       "    <tr>\n",
       "      <th>2</th>\n",
       "      <td>99cab263-da5c-4706-9f2c-92cb779acaf7</td>\n",
       "      <td>BRL</td>\n",
       "      <td>-18.95</td>\n",
       "      <td>2023-06-26 05:54:25</td>\n",
       "      <td>Transporte</td>\n",
       "      <td>1968bd13-dd25-4f88-bccc-5cff92d6811b</td>\n",
       "    </tr>\n",
       "    <tr>\n",
       "      <th>3</th>\n",
       "      <td>5a78f1f0-f541-440f-9d3d-c8c21373ffc8</td>\n",
       "      <td>BRL</td>\n",
       "      <td>-262.70</td>\n",
       "      <td>2023-06-21 00:34:08</td>\n",
       "      <td>Outras saídas</td>\n",
       "      <td>1968bd13-dd25-4f88-bccc-5cff92d6811b</td>\n",
       "    </tr>\n",
       "    <tr>\n",
       "      <th>4</th>\n",
       "      <td>fc4e9552-bb41-4757-8c16-ff2c584ee01b</td>\n",
       "      <td>BRL</td>\n",
       "      <td>-179.44</td>\n",
       "      <td>2023-08-05 01:09:42</td>\n",
       "      <td>Imposto, juros e multa</td>\n",
       "      <td>1968bd13-dd25-4f88-bccc-5cff92d6811b</td>\n",
       "    </tr>\n",
       "  </tbody>\n",
       "</table>\n",
       "</div>"
      ],
      "text/plain": [
       "                                     id currency_code  amount  \\\n",
       "0  b7ebd81b-98f7-47ab-91f3-52bc80be57a6           BRL -498.71   \n",
       "1  b8d83679-02ab-4241-b15d-11e9c0033864           BRL -265.00   \n",
       "2  99cab263-da5c-4706-9f2c-92cb779acaf7           BRL  -18.95   \n",
       "3  5a78f1f0-f541-440f-9d3d-c8c21373ffc8           BRL -262.70   \n",
       "4  fc4e9552-bb41-4757-8c16-ff2c584ee01b           BRL -179.44   \n",
       "\n",
       "                  date                category  \\\n",
       "0  2023-07-20 03:57:57                Educação   \n",
       "1  2023-07-23 05:17:06           Outras saídas   \n",
       "2  2023-06-26 05:54:25              Transporte   \n",
       "3  2023-06-21 00:34:08           Outras saídas   \n",
       "4  2023-08-05 01:09:42  Imposto, juros e multa   \n",
       "\n",
       "                             account_id  \n",
       "0  1968bd13-dd25-4f88-bccc-5cff92d6811b  \n",
       "1  1968bd13-dd25-4f88-bccc-5cff92d6811b  \n",
       "2  1968bd13-dd25-4f88-bccc-5cff92d6811b  \n",
       "3  1968bd13-dd25-4f88-bccc-5cff92d6811b  \n",
       "4  1968bd13-dd25-4f88-bccc-5cff92d6811b  "
      ]
     },
     "execution_count": 332,
     "metadata": {},
     "output_type": "execute_result"
    }
   ],
   "source": [
    "transactions.head()"
   ]
  },
  {
   "cell_type": "code",
   "execution_count": 333,
   "metadata": {},
   "outputs": [
    {
     "data": {
      "text/plain": [
       "0"
      ]
     },
     "execution_count": 333,
     "metadata": {},
     "output_type": "execute_result"
    }
   ],
   "source": [
    "(transactions['id'].value_counts() > 1).sum()"
   ]
  },
  {
   "cell_type": "code",
   "execution_count": 334,
   "metadata": {},
   "outputs": [
    {
     "data": {
      "text/plain": [
       "currency_code\n",
       "BRL    400110\n",
       "Name: count, dtype: int64"
      ]
     },
     "execution_count": 334,
     "metadata": {},
     "output_type": "execute_result"
    }
   ],
   "source": [
    "transactions['currency_code'].value_counts()"
   ]
  },
  {
   "cell_type": "code",
   "execution_count": 335,
   "metadata": {},
   "outputs": [
    {
     "data": {
      "text/html": [
       "<div>\n",
       "<style scoped>\n",
       "    .dataframe tbody tr th:only-of-type {\n",
       "        vertical-align: middle;\n",
       "    }\n",
       "\n",
       "    .dataframe tbody tr th {\n",
       "        vertical-align: top;\n",
       "    }\n",
       "\n",
       "    .dataframe thead th {\n",
       "        text-align: right;\n",
       "    }\n",
       "</style>\n",
       "<table border=\"1\" class=\"dataframe\">\n",
       "  <thead>\n",
       "    <tr style=\"text-align: right;\">\n",
       "      <th></th>\n",
       "      <th>category</th>\n",
       "      <th>proportion</th>\n",
       "    </tr>\n",
       "  </thead>\n",
       "  <tbody>\n",
       "    <tr>\n",
       "      <th>0</th>\n",
       "      <td>Recebido</td>\n",
       "      <td>0.097435</td>\n",
       "    </tr>\n",
       "    <tr>\n",
       "      <th>1</th>\n",
       "      <td>Transporte</td>\n",
       "      <td>0.092670</td>\n",
       "    </tr>\n",
       "    <tr>\n",
       "      <th>2</th>\n",
       "      <td>Moradia</td>\n",
       "      <td>0.092648</td>\n",
       "    </tr>\n",
       "    <tr>\n",
       "      <th>3</th>\n",
       "      <td>Imposto, juros e multa</td>\n",
       "      <td>0.092190</td>\n",
       "    </tr>\n",
       "    <tr>\n",
       "      <th>4</th>\n",
       "      <td>Compras</td>\n",
       "      <td>0.091829</td>\n",
       "    </tr>\n",
       "    <tr>\n",
       "      <th>5</th>\n",
       "      <td>Outras saídas</td>\n",
       "      <td>0.091826</td>\n",
       "    </tr>\n",
       "    <tr>\n",
       "      <th>6</th>\n",
       "      <td>Alimentação</td>\n",
       "      <td>0.089221</td>\n",
       "    </tr>\n",
       "    <tr>\n",
       "      <th>7</th>\n",
       "      <td>Investimento</td>\n",
       "      <td>0.088681</td>\n",
       "    </tr>\n",
       "    <tr>\n",
       "      <th>8</th>\n",
       "      <td>Lazer</td>\n",
       "      <td>0.088410</td>\n",
       "    </tr>\n",
       "    <tr>\n",
       "      <th>9</th>\n",
       "      <td>Educação</td>\n",
       "      <td>0.087712</td>\n",
       "    </tr>\n",
       "    <tr>\n",
       "      <th>10</th>\n",
       "      <td>Saúde</td>\n",
       "      <td>0.087378</td>\n",
       "    </tr>\n",
       "  </tbody>\n",
       "</table>\n",
       "</div>"
      ],
      "text/plain": [
       "                  category  proportion\n",
       "0                 Recebido    0.097435\n",
       "1               Transporte    0.092670\n",
       "2                  Moradia    0.092648\n",
       "3   Imposto, juros e multa    0.092190\n",
       "4                  Compras    0.091829\n",
       "5            Outras saídas    0.091826\n",
       "6              Alimentação    0.089221\n",
       "7             Investimento    0.088681\n",
       "8                    Lazer    0.088410\n",
       "9                 Educação    0.087712\n",
       "10                   Saúde    0.087378"
      ]
     },
     "execution_count": 335,
     "metadata": {},
     "output_type": "execute_result"
    }
   ],
   "source": [
    "transactions['category'].value_counts(True).reset_index()"
   ]
  },
  {
   "cell_type": "code",
   "execution_count": 336,
   "metadata": {},
   "outputs": [
    {
     "data": {
      "text/plain": [
       "amount\n",
       "False    331526\n",
       "True      68584\n",
       "Name: count, dtype: int64"
      ]
     },
     "execution_count": 336,
     "metadata": {},
     "output_type": "execute_result"
    }
   ],
   "source": [
    "(transactions['amount'] > 0).value_counts()"
   ]
  },
  {
   "cell_type": "code",
   "execution_count": 337,
   "metadata": {},
   "outputs": [],
   "source": [
    "transactions['isin'] = (transactions['amount'] > 0)"
   ]
  },
  {
   "cell_type": "code",
   "execution_count": 338,
   "metadata": {},
   "outputs": [
    {
     "data": {
      "text/html": [
       "<div>\n",
       "<style scoped>\n",
       "    .dataframe tbody tr th:only-of-type {\n",
       "        vertical-align: middle;\n",
       "    }\n",
       "\n",
       "    .dataframe tbody tr th {\n",
       "        vertical-align: top;\n",
       "    }\n",
       "\n",
       "    .dataframe thead th {\n",
       "        text-align: right;\n",
       "    }\n",
       "</style>\n",
       "<table border=\"1\" class=\"dataframe\">\n",
       "  <thead>\n",
       "    <tr style=\"text-align: right;\">\n",
       "      <th>isin</th>\n",
       "      <th>False</th>\n",
       "      <th>True</th>\n",
       "    </tr>\n",
       "    <tr>\n",
       "      <th>category</th>\n",
       "      <th></th>\n",
       "      <th></th>\n",
       "    </tr>\n",
       "  </thead>\n",
       "  <tbody>\n",
       "    <tr>\n",
       "      <th>Alimentação</th>\n",
       "      <td>32878</td>\n",
       "      <td>0</td>\n",
       "    </tr>\n",
       "    <tr>\n",
       "      <th>Compras</th>\n",
       "      <td>33839</td>\n",
       "      <td>0</td>\n",
       "    </tr>\n",
       "    <tr>\n",
       "      <th>Educação</th>\n",
       "      <td>32322</td>\n",
       "      <td>0</td>\n",
       "    </tr>\n",
       "    <tr>\n",
       "      <th>Imposto, juros e multa</th>\n",
       "      <td>33972</td>\n",
       "      <td>0</td>\n",
       "    </tr>\n",
       "    <tr>\n",
       "      <th>Investimento</th>\n",
       "      <td>0</td>\n",
       "      <td>32679</td>\n",
       "    </tr>\n",
       "    <tr>\n",
       "      <th>Lazer</th>\n",
       "      <td>32579</td>\n",
       "      <td>0</td>\n",
       "    </tr>\n",
       "    <tr>\n",
       "      <th>Moradia</th>\n",
       "      <td>34141</td>\n",
       "      <td>0</td>\n",
       "    </tr>\n",
       "    <tr>\n",
       "      <th>Outras saídas</th>\n",
       "      <td>33838</td>\n",
       "      <td>0</td>\n",
       "    </tr>\n",
       "    <tr>\n",
       "      <th>Recebido</th>\n",
       "      <td>0</td>\n",
       "      <td>35905</td>\n",
       "    </tr>\n",
       "    <tr>\n",
       "      <th>Saúde</th>\n",
       "      <td>32199</td>\n",
       "      <td>0</td>\n",
       "    </tr>\n",
       "    <tr>\n",
       "      <th>Transporte</th>\n",
       "      <td>34149</td>\n",
       "      <td>0</td>\n",
       "    </tr>\n",
       "  </tbody>\n",
       "</table>\n",
       "</div>"
      ],
      "text/plain": [
       "isin                    False  True \n",
       "category                            \n",
       "Alimentação             32878      0\n",
       "Compras                 33839      0\n",
       "Educação                32322      0\n",
       "Imposto, juros e multa  33972      0\n",
       "Investimento                0  32679\n",
       "Lazer                   32579      0\n",
       "Moradia                 34141      0\n",
       "Outras saídas           33838      0\n",
       "Recebido                    0  35905\n",
       "Saúde                   32199      0\n",
       "Transporte              34149      0"
      ]
     },
     "execution_count": 338,
     "metadata": {},
     "output_type": "execute_result"
    }
   ],
   "source": [
    "pd.crosstab(transactions['category'], transactions['isin'])"
   ]
  },
  {
   "cell_type": "code",
   "execution_count": 339,
   "metadata": {},
   "outputs": [
    {
     "data": {
      "image/png": "[encoded data removed]",
      "text/plain": [
       "<Figure size 1000x600 with 1 Axes>"
      ]
     },
     "metadata": {},
     "output_type": "display_data"
    }
   ],
   "source": [
    "import seaborn as sns\n",
    "plt.figure(figsize=(10,6))\n",
    "#inserindo os boxplots\n",
    "sns.boxplot(data=transactions, x='category', y='amount', palette='viridis');\n",
    "plt.xticks(rotation=90);"
   ]
  },
  {
   "cell_type": "code",
   "execution_count": 340,
   "metadata": {},
   "outputs": [
    {
     "name": "stdout",
     "output_type": "stream",
     "text": [
      "<class 'pandas.core.frame.DataFrame'>\n",
      "RangeIndex: 400110 entries, 0 to 400109\n",
      "Data columns (total 7 columns):\n",
      " #   Column         Non-Null Count   Dtype  \n",
      "---  ------         --------------   -----  \n",
      " 0   id             400110 non-null  object \n",
      " 1   currency_code  400110 non-null  object \n",
      " 2   amount         400110 non-null  float64\n",
      " 3   date           400110 non-null  object \n",
      " 4   category       368501 non-null  object \n",
      " 5   account_id     400110 non-null  object \n",
      " 6   isin           400110 non-null  bool   \n",
      "dtypes: bool(1), float64(1), object(5)\n",
      "memory usage: 18.7+ MB\n"
     ]
    }
   ],
   "source": [
    "transactions.info()"
   ]
  },
  {
   "cell_type": "code",
   "execution_count": 341,
   "metadata": {},
   "outputs": [
    {
     "data": {
      "text/plain": [
       "0         2023-07-20\n",
       "1         2023-07-23\n",
       "2         2023-06-26\n",
       "3         2023-06-21\n",
       "4         2023-08-05\n",
       "             ...    \n",
       "400105    2022-12-02\n",
       "400106    2023-07-22\n",
       "400107    2023-07-24\n",
       "400108    2023-06-25\n",
       "400109    2023-06-17\n",
       "Name: date, Length: 400110, dtype: object"
      ]
     },
     "execution_count": 341,
     "metadata": {},
     "output_type": "execute_result"
    }
   ],
   "source": [
    "transactions['date'] = pd.to_datetime(transactions['date'])\n",
    "transactions['date'].dt.date"
   ]
  },
  {
   "cell_type": "code",
   "execution_count": 342,
   "metadata": {},
   "outputs": [
    {
     "data": {
      "text/html": [
       "<div>\n",
       "<style scoped>\n",
       "    .dataframe tbody tr th:only-of-type {\n",
       "        vertical-align: middle;\n",
       "    }\n",
       "\n",
       "    .dataframe tbody tr th {\n",
       "        vertical-align: top;\n",
       "    }\n",
       "\n",
       "    .dataframe thead th {\n",
       "        text-align: right;\n",
       "    }\n",
       "</style>\n",
       "<table border=\"1\" class=\"dataframe\">\n",
       "  <thead>\n",
       "    <tr style=\"text-align: right;\">\n",
       "      <th></th>\n",
       "      <th>id</th>\n",
       "      <th>currency_code</th>\n",
       "      <th>amount</th>\n",
       "      <th>date</th>\n",
       "      <th>category</th>\n",
       "      <th>account_id</th>\n",
       "      <th>isin</th>\n",
       "      <th>only_date</th>\n",
       "    </tr>\n",
       "  </thead>\n",
       "  <tbody>\n",
       "    <tr>\n",
       "      <th>0</th>\n",
       "      <td>b7ebd81b-98f7-47ab-91f3-52bc80be57a6</td>\n",
       "      <td>BRL</td>\n",
       "      <td>-498.71</td>\n",
       "      <td>2023-07-20 03:57:57</td>\n",
       "      <td>Educação</td>\n",
       "      <td>1968bd13-dd25-4f88-bccc-5cff92d6811b</td>\n",
       "      <td>False</td>\n",
       "      <td>2023-07-20</td>\n",
       "    </tr>\n",
       "    <tr>\n",
       "      <th>1</th>\n",
       "      <td>b8d83679-02ab-4241-b15d-11e9c0033864</td>\n",
       "      <td>BRL</td>\n",
       "      <td>-265.00</td>\n",
       "      <td>2023-07-23 05:17:06</td>\n",
       "      <td>Outras saídas</td>\n",
       "      <td>1968bd13-dd25-4f88-bccc-5cff92d6811b</td>\n",
       "      <td>False</td>\n",
       "      <td>2023-07-23</td>\n",
       "    </tr>\n",
       "    <tr>\n",
       "      <th>2</th>\n",
       "      <td>99cab263-da5c-4706-9f2c-92cb779acaf7</td>\n",
       "      <td>BRL</td>\n",
       "      <td>-18.95</td>\n",
       "      <td>2023-06-26 05:54:25</td>\n",
       "      <td>Transporte</td>\n",
       "      <td>1968bd13-dd25-4f88-bccc-5cff92d6811b</td>\n",
       "      <td>False</td>\n",
       "      <td>2023-06-26</td>\n",
       "    </tr>\n",
       "    <tr>\n",
       "      <th>3</th>\n",
       "      <td>5a78f1f0-f541-440f-9d3d-c8c21373ffc8</td>\n",
       "      <td>BRL</td>\n",
       "      <td>-262.70</td>\n",
       "      <td>2023-06-21 00:34:08</td>\n",
       "      <td>Outras saídas</td>\n",
       "      <td>1968bd13-dd25-4f88-bccc-5cff92d6811b</td>\n",
       "      <td>False</td>\n",
       "      <td>2023-06-21</td>\n",
       "    </tr>\n",
       "    <tr>\n",
       "      <th>4</th>\n",
       "      <td>fc4e9552-bb41-4757-8c16-ff2c584ee01b</td>\n",
       "      <td>BRL</td>\n",
       "      <td>-179.44</td>\n",
       "      <td>2023-08-05 01:09:42</td>\n",
       "      <td>Imposto, juros e multa</td>\n",
       "      <td>1968bd13-dd25-4f88-bccc-5cff92d6811b</td>\n",
       "      <td>False</td>\n",
       "      <td>2023-08-05</td>\n",
       "    </tr>\n",
       "  </tbody>\n",
       "</table>\n",
       "</div>"
      ],
      "text/plain": [
       "                                     id currency_code  amount  \\\n",
       "0  b7ebd81b-98f7-47ab-91f3-52bc80be57a6           BRL -498.71   \n",
       "1  b8d83679-02ab-4241-b15d-11e9c0033864           BRL -265.00   \n",
       "2  99cab263-da5c-4706-9f2c-92cb779acaf7           BRL  -18.95   \n",
       "3  5a78f1f0-f541-440f-9d3d-c8c21373ffc8           BRL -262.70   \n",
       "4  fc4e9552-bb41-4757-8c16-ff2c584ee01b           BRL -179.44   \n",
       "\n",
       "                 date                category  \\\n",
       "0 2023-07-20 03:57:57                Educação   \n",
       "1 2023-07-23 05:17:06           Outras saídas   \n",
       "2 2023-06-26 05:54:25              Transporte   \n",
       "3 2023-06-21 00:34:08           Outras saídas   \n",
       "4 2023-08-05 01:09:42  Imposto, juros e multa   \n",
       "\n",
       "                             account_id   isin   only_date  \n",
       "0  1968bd13-dd25-4f88-bccc-5cff92d6811b  False  2023-07-20  \n",
       "1  1968bd13-dd25-4f88-bccc-5cff92d6811b  False  2023-07-23  \n",
       "2  1968bd13-dd25-4f88-bccc-5cff92d6811b  False  2023-06-26  \n",
       "3  1968bd13-dd25-4f88-bccc-5cff92d6811b  False  2023-06-21  \n",
       "4  1968bd13-dd25-4f88-bccc-5cff92d6811b  False  2023-08-05  "
      ]
     },
     "execution_count": 342,
     "metadata": {},
     "output_type": "execute_result"
    }
   ],
   "source": [
    "transactions['only_date'] = transactions['date'].dt.date\n",
    "transactions.head()"
   ]
  },
  {
   "cell_type": "code",
   "execution_count": 343,
   "metadata": {},
   "outputs": [
    {
     "data": {
      "text/html": [
       "<div>\n",
       "<style scoped>\n",
       "    .dataframe tbody tr th:only-of-type {\n",
       "        vertical-align: middle;\n",
       "    }\n",
       "\n",
       "    .dataframe tbody tr th {\n",
       "        vertical-align: top;\n",
       "    }\n",
       "\n",
       "    .dataframe thead th {\n",
       "        text-align: right;\n",
       "    }\n",
       "</style>\n",
       "<table border=\"1\" class=\"dataframe\">\n",
       "  <thead>\n",
       "    <tr style=\"text-align: right;\">\n",
       "      <th></th>\n",
       "      <th>index</th>\n",
       "      <th>id</th>\n",
       "      <th>amount</th>\n",
       "    </tr>\n",
       "  </thead>\n",
       "  <tbody>\n",
       "    <tr>\n",
       "      <th>0</th>\n",
       "      <td>4</td>\n",
       "      <td>0001c0f4-c274-4325-a55c-c63b732cde58</td>\n",
       "      <td>9869.21</td>\n",
       "    </tr>\n",
       "    <tr>\n",
       "      <th>1</th>\n",
       "      <td>6</td>\n",
       "      <td>0001e28b-6cdd-41e9-9ba6-41f60cac1a11</td>\n",
       "      <td>91.39</td>\n",
       "    </tr>\n",
       "    <tr>\n",
       "      <th>2</th>\n",
       "      <td>8</td>\n",
       "      <td>00029ccb-f109-4736-822c-d0f97dee0be4</td>\n",
       "      <td>592.28</td>\n",
       "    </tr>\n",
       "    <tr>\n",
       "      <th>3</th>\n",
       "      <td>18</td>\n",
       "      <td>0003a285-f03f-425d-a337-8dfcf6c956ce</td>\n",
       "      <td>2879.77</td>\n",
       "    </tr>\n",
       "    <tr>\n",
       "      <th>4</th>\n",
       "      <td>19</td>\n",
       "      <td>0003a5d8-cd74-4bbe-8667-f79f3649b297</td>\n",
       "      <td>2761.80</td>\n",
       "    </tr>\n",
       "    <tr>\n",
       "      <th>...</th>\n",
       "      <td>...</td>\n",
       "      <td>...</td>\n",
       "      <td>...</td>\n",
       "    </tr>\n",
       "    <tr>\n",
       "      <th>68579</th>\n",
       "      <td>400062</td>\n",
       "      <td>fff7621e-cee9-4d82-aa67-d8bdee1d5f38</td>\n",
       "      <td>1463.45</td>\n",
       "    </tr>\n",
       "    <tr>\n",
       "      <th>68580</th>\n",
       "      <td>400063</td>\n",
       "      <td>fff7aa97-27a1-4d7f-8ad3-dcc6b1ed7bfb</td>\n",
       "      <td>2750.11</td>\n",
       "    </tr>\n",
       "    <tr>\n",
       "      <th>68581</th>\n",
       "      <td>400082</td>\n",
       "      <td>fffb5394-0a8e-4c83-bd50-d12cad5d7f17</td>\n",
       "      <td>646.55</td>\n",
       "    </tr>\n",
       "    <tr>\n",
       "      <th>68582</th>\n",
       "      <td>400104</td>\n",
       "      <td>fffee094-ef6a-486c-a9b0-b6329be94a94</td>\n",
       "      <td>2216.19</td>\n",
       "    </tr>\n",
       "    <tr>\n",
       "      <th>68583</th>\n",
       "      <td>400109</td>\n",
       "      <td>ffffd635-5992-499a-852a-745a54ef559a</td>\n",
       "      <td>203.66</td>\n",
       "    </tr>\n",
       "  </tbody>\n",
       "</table>\n",
       "<p>68584 rows × 3 columns</p>\n",
       "</div>"
      ],
      "text/plain": [
       "        index                                    id   amount\n",
       "0           4  0001c0f4-c274-4325-a55c-c63b732cde58  9869.21\n",
       "1           6  0001e28b-6cdd-41e9-9ba6-41f60cac1a11    91.39\n",
       "2           8  00029ccb-f109-4736-822c-d0f97dee0be4   592.28\n",
       "3          18  0003a285-f03f-425d-a337-8dfcf6c956ce  2879.77\n",
       "4          19  0003a5d8-cd74-4bbe-8667-f79f3649b297  2761.80\n",
       "...       ...                                   ...      ...\n",
       "68579  400062  fff7621e-cee9-4d82-aa67-d8bdee1d5f38  1463.45\n",
       "68580  400063  fff7aa97-27a1-4d7f-8ad3-dcc6b1ed7bfb  2750.11\n",
       "68581  400082  fffb5394-0a8e-4c83-bd50-d12cad5d7f17   646.55\n",
       "68582  400104  fffee094-ef6a-486c-a9b0-b6329be94a94  2216.19\n",
       "68583  400109  ffffd635-5992-499a-852a-745a54ef559a   203.66\n",
       "\n",
       "[68584 rows x 3 columns]"
      ]
     },
     "execution_count": 343,
     "metadata": {},
     "output_type": "execute_result"
    }
   ],
   "source": [
    "saldo_cliente = transactions.groupby('id').amount.sum().reset_index()\n",
    "saldo_cliente[saldo_cliente['amount'] > 0].reset_index()"
   ]
  },
  {
   "cell_type": "code",
   "execution_count": 344,
   "metadata": {},
   "outputs": [
    {
     "data": {
      "text/html": [
       "<div>\n",
       "<style scoped>\n",
       "    .dataframe tbody tr th:only-of-type {\n",
       "        vertical-align: middle;\n",
       "    }\n",
       "\n",
       "    .dataframe tbody tr th {\n",
       "        vertical-align: top;\n",
       "    }\n",
       "\n",
       "    .dataframe thead th {\n",
       "        text-align: right;\n",
       "    }\n",
       "</style>\n",
       "<table border=\"1\" class=\"dataframe\">\n",
       "  <thead>\n",
       "    <tr style=\"text-align: right;\">\n",
       "      <th></th>\n",
       "      <th>only_date</th>\n",
       "      <th>count</th>\n",
       "    </tr>\n",
       "  </thead>\n",
       "  <tbody>\n",
       "    <tr>\n",
       "      <th>0</th>\n",
       "      <td>2023-06-30</td>\n",
       "      <td>4559</td>\n",
       "    </tr>\n",
       "    <tr>\n",
       "      <th>1</th>\n",
       "      <td>2023-07-09</td>\n",
       "      <td>4546</td>\n",
       "    </tr>\n",
       "    <tr>\n",
       "      <th>2</th>\n",
       "      <td>2023-06-29</td>\n",
       "      <td>4544</td>\n",
       "    </tr>\n",
       "    <tr>\n",
       "      <th>3</th>\n",
       "      <td>2023-06-28</td>\n",
       "      <td>4537</td>\n",
       "    </tr>\n",
       "    <tr>\n",
       "      <th>4</th>\n",
       "      <td>2023-07-07</td>\n",
       "      <td>4518</td>\n",
       "    </tr>\n",
       "    <tr>\n",
       "      <th>5</th>\n",
       "      <td>2023-07-23</td>\n",
       "      <td>4506</td>\n",
       "    </tr>\n",
       "    <tr>\n",
       "      <th>6</th>\n",
       "      <td>2023-06-27</td>\n",
       "      <td>4506</td>\n",
       "    </tr>\n",
       "    <tr>\n",
       "      <th>7</th>\n",
       "      <td>2023-06-22</td>\n",
       "      <td>4501</td>\n",
       "    </tr>\n",
       "    <tr>\n",
       "      <th>8</th>\n",
       "      <td>2023-07-04</td>\n",
       "      <td>4499</td>\n",
       "    </tr>\n",
       "    <tr>\n",
       "      <th>9</th>\n",
       "      <td>2023-07-28</td>\n",
       "      <td>4492</td>\n",
       "    </tr>\n",
       "  </tbody>\n",
       "</table>\n",
       "</div>"
      ],
      "text/plain": [
       "    only_date  count\n",
       "0  2023-06-30   4559\n",
       "1  2023-07-09   4546\n",
       "2  2023-06-29   4544\n",
       "3  2023-06-28   4537\n",
       "4  2023-07-07   4518\n",
       "5  2023-07-23   4506\n",
       "6  2023-06-27   4506\n",
       "7  2023-06-22   4501\n",
       "8  2023-07-04   4499\n",
       "9  2023-07-28   4492"
      ]
     },
     "execution_count": 344,
     "metadata": {},
     "output_type": "execute_result"
    }
   ],
   "source": [
    "date_graf = transactions['only_date'].value_counts().reset_index()\n",
    "date_graf.head(10)"
   ]
  },
  {
   "cell_type": "code",
   "execution_count": 345,
   "metadata": {},
   "outputs": [
    {
     "data": {
      "image/png": "[encoded data removed]",
      "text/plain": [
       "<Figure size 600x400 with 1 Axes>"
      ]
     },
     "metadata": {},
     "output_type": "display_data"
    }
   ],
   "source": [
    "plt.figure(figsize=(6, 4))\n",
    "plt.bar(x=date_graf['only_date'], height=date_graf['count'])\n",
    "plt.xticks(rotation=90);"
   ]
  },
  {
   "cell_type": "code",
   "execution_count": 346,
   "metadata": {},
   "outputs": [
    {
     "data": {
      "image/png": "[encoded data removed]",
      "text/plain": [
       "<Figure size 1200x600 with 1 Axes>"
      ]
     },
     "metadata": {},
     "output_type": "display_data"
    }
   ],
   "source": [
    "plt.figure(figsize=(12,6))\n",
    "\n",
    "rotulos_do_eixo_x = pd.date_range(start='2021-11-01', end='2023-10-31', freq='M')\n",
    "\n",
    "plt.hist(x=date_graf['only_date'], bins=50)\n",
    "plt.xticks(rotation=90);\n",
    "plt.xticks(rotulos_do_eixo_x);"
   ]
  },
  {
   "cell_type": "markdown",
   "metadata": {},
   "source": [
    "## Unindo dfs"
   ]
  },
  {
   "cell_type": "code",
   "execution_count": 347,
   "metadata": {},
   "outputs": [
    {
     "name": "stdout",
     "output_type": "stream",
     "text": [
      "<class 'pandas.core.frame.DataFrame'>\n",
      "RangeIndex: 400110 entries, 0 to 400109\n",
      "Data columns (total 8 columns):\n",
      " #   Column         Non-Null Count   Dtype         \n",
      "---  ------         --------------   -----         \n",
      " 0   id             400110 non-null  object        \n",
      " 1   currency_code  400110 non-null  object        \n",
      " 2   amount         400110 non-null  float64       \n",
      " 3   date           400110 non-null  datetime64[ns]\n",
      " 4   category       368501 non-null  object        \n",
      " 5   account_id     400110 non-null  object        \n",
      " 6   isin           400110 non-null  bool          \n",
      " 7   only_date      400110 non-null  object        \n",
      "dtypes: bool(1), datetime64[ns](1), float64(1), object(5)\n",
      "memory usage: 21.7+ MB\n"
     ]
    }
   ],
   "source": [
    "transactions.info()"
   ]
  },
  {
   "cell_type": "code",
   "execution_count": 348,
   "metadata": {},
   "outputs": [
    {
     "name": "stdout",
     "output_type": "stream",
     "text": [
      "<class 'pandas.core.frame.DataFrame'>\n",
      "RangeIndex: 7569 entries, 0 to 7568\n",
      "Data columns (total 9 columns):\n",
      " #   Column         Non-Null Count  Dtype  \n",
      "---  ------         --------------  -----  \n",
      " 0   id             7569 non-null   object \n",
      " 1   type           7569 non-null   object \n",
      " 2   subtype        7569 non-null   object \n",
      " 3   balance        7569 non-null   float64\n",
      " 4   currency_code  7569 non-null   object \n",
      " 5   name           7569 non-null   object \n",
      " 6   person_id      7569 non-null   object \n",
      " 7   account_id     7569 non-null   object \n",
      " 8   date           7569 non-null   object \n",
      "dtypes: float64(1), object(8)\n",
      "memory usage: 532.3+ KB\n"
     ]
    }
   ],
   "source": [
    "accounts.info()"
   ]
  },
  {
   "cell_type": "code",
   "execution_count": 349,
   "metadata": {},
   "outputs": [
    {
     "name": "stdout",
     "output_type": "stream",
     "text": [
      "<class 'pandas.core.frame.DataFrame'>\n",
      "RangeIndex: 2531 entries, 0 to 2530\n",
      "Data columns (total 3 columns):\n",
      " #   Column       Non-Null Count  Dtype \n",
      "---  ------       --------------  ----- \n",
      " 0   id           2531 non-null   object\n",
      " 1   name         2531 non-null   object\n",
      " 2   suitability  2084 non-null   object\n",
      "dtypes: object(3)\n",
      "memory usage: 59.4+ KB\n"
     ]
    }
   ],
   "source": [
    "person.info()"
   ]
  },
  {
   "cell_type": "code",
   "execution_count": 350,
   "metadata": {},
   "outputs": [
    {
     "name": "stdout",
     "output_type": "stream",
     "text": [
      "<class 'pandas.core.frame.DataFrame'>\n",
      "RangeIndex: 400110 entries, 0 to 400109\n",
      "Data columns (total 16 columns):\n",
      " #   Column           Non-Null Count   Dtype         \n",
      "---  ------           --------------   -----         \n",
      " 0   id_x             400110 non-null  object        \n",
      " 1   currency_code_x  400110 non-null  object        \n",
      " 2   amount           400110 non-null  float64       \n",
      " 3   date_x           400110 non-null  datetime64[ns]\n",
      " 4   category         368501 non-null  object        \n",
      " 5   account_id       400110 non-null  object        \n",
      " 6   isin             400110 non-null  bool          \n",
      " 7   only_date        400110 non-null  object        \n",
      " 8   id_y             400110 non-null  object        \n",
      " 9   type             400110 non-null  object        \n",
      " 10  subtype          400110 non-null  object        \n",
      " 11  balance          400110 non-null  float64       \n",
      " 12  currency_code_y  400110 non-null  object        \n",
      " 13  name             400110 non-null  object        \n",
      " 14  person_id        400110 non-null  object        \n",
      " 15  date_y           400110 non-null  object        \n",
      "dtypes: bool(1), datetime64[ns](1), float64(2), object(12)\n",
      "memory usage: 46.2+ MB\n"
     ]
    }
   ],
   "source": [
    "merge = pd.merge(transactions, accounts, how = 'left', on = 'account_id')\n",
    "merge.info()"
   ]
  },
  {
   "cell_type": "code",
   "execution_count": 351,
   "metadata": {},
   "outputs": [],
   "source": [
    "df = pd.merge(merge, person, how='inner', left_on='person_id', right_on='id')\n"
   ]
  },
  {
   "cell_type": "code",
   "execution_count": 352,
   "metadata": {},
   "outputs": [
    {
     "name": "stdout",
     "output_type": "stream",
     "text": [
      "<class 'pandas.core.frame.DataFrame'>\n",
      "RangeIndex: 400110 entries, 0 to 400109\n",
      "Data columns (total 19 columns):\n",
      " #   Column           Non-Null Count   Dtype         \n",
      "---  ------           --------------   -----         \n",
      " 0   id_x             400110 non-null  object        \n",
      " 1   currency_code_x  400110 non-null  object        \n",
      " 2   amount           400110 non-null  float64       \n",
      " 3   date_x           400110 non-null  datetime64[ns]\n",
      " 4   category         368501 non-null  object        \n",
      " 5   account_id       400110 non-null  object        \n",
      " 6   isin             400110 non-null  bool          \n",
      " 7   only_date        400110 non-null  object        \n",
      " 8   id_y             400110 non-null  object        \n",
      " 9   type             400110 non-null  object        \n",
      " 10  subtype          400110 non-null  object        \n",
      " 11  balance          400110 non-null  float64       \n",
      " 12  currency_code_y  400110 non-null  object        \n",
      " 13  name_x           400110 non-null  object        \n",
      " 14  person_id        400110 non-null  object        \n",
      " 15  date_y           400110 non-null  object        \n",
      " 16  id               400110 non-null  object        \n",
      " 17  name_y           400110 non-null  object        \n",
      " 18  suitability      330341 non-null  object        \n",
      "dtypes: bool(1), datetime64[ns](1), float64(2), object(15)\n",
      "memory usage: 55.3+ MB\n"
     ]
    }
   ],
   "source": [
    "df.info()"
   ]
  },
  {
   "cell_type": "code",
   "execution_count": 353,
   "metadata": {},
   "outputs": [],
   "source": [
    "df = df.rename(columns={'id_x':'id', 'currency_code_x':'currency_code','date_x': 'date','name_x':'name','id':'person'})\n"
   ]
  },
  {
   "cell_type": "code",
   "execution_count": 354,
   "metadata": {},
   "outputs": [],
   "source": [
    "df.drop(columns = ['id_y','currency_code_y','date_y','name_y', 'person'], inplace=True)"
   ]
  },
  {
   "cell_type": "code",
   "execution_count": 355,
   "metadata": {},
   "outputs": [
    {
     "name": "stdout",
     "output_type": "stream",
     "text": [
      "<class 'pandas.core.frame.DataFrame'>\n",
      "RangeIndex: 400110 entries, 0 to 400109\n",
      "Data columns (total 14 columns):\n",
      " #   Column         Non-Null Count   Dtype         \n",
      "---  ------         --------------   -----         \n",
      " 0   id             400110 non-null  object        \n",
      " 1   currency_code  400110 non-null  object        \n",
      " 2   amount         400110 non-null  float64       \n",
      " 3   date           400110 non-null  datetime64[ns]\n",
      " 4   category       368501 non-null  object        \n",
      " 5   account_id     400110 non-null  object        \n",
      " 6   isin           400110 non-null  bool          \n",
      " 7   only_date      400110 non-null  object        \n",
      " 8   type           400110 non-null  object        \n",
      " 9   subtype        400110 non-null  object        \n",
      " 10  balance        400110 non-null  float64       \n",
      " 11  name           400110 non-null  object        \n",
      " 12  person_id      400110 non-null  object        \n",
      " 13  suitability    330341 non-null  object        \n",
      "dtypes: bool(1), datetime64[ns](1), float64(2), object(10)\n",
      "memory usage: 40.1+ MB\n"
     ]
    }
   ],
   "source": [
    "df.info()"
   ]
  },
  {
   "cell_type": "code",
   "execution_count": 356,
   "metadata": {},
   "outputs": [],
   "source": [
    "df['date'] = pd.to_datetime(df['date'])\n",
    "df['only_date'] = pd.to_datetime(df['only_date'])"
   ]
  },
  {
   "cell_type": "code",
   "execution_count": 357,
   "metadata": {},
   "outputs": [],
   "source": [
    "df['dia_semana'] = df['date'].dt.day_name() "
   ]
  },
  {
   "cell_type": "code",
   "execution_count": 358,
   "metadata": {},
   "outputs": [
    {
     "data": {
      "text/html": [
       "<div>\n",
       "<style scoped>\n",
       "    .dataframe tbody tr th:only-of-type {\n",
       "        vertical-align: middle;\n",
       "    }\n",
       "\n",
       "    .dataframe tbody tr th {\n",
       "        vertical-align: top;\n",
       "    }\n",
       "\n",
       "    .dataframe thead th {\n",
       "        text-align: right;\n",
       "    }\n",
       "</style>\n",
       "<table border=\"1\" class=\"dataframe\">\n",
       "  <thead>\n",
       "    <tr style=\"text-align: right;\">\n",
       "      <th></th>\n",
       "      <th>id</th>\n",
       "      <th>currency_code</th>\n",
       "      <th>amount</th>\n",
       "      <th>date</th>\n",
       "      <th>category</th>\n",
       "      <th>account_id</th>\n",
       "      <th>isin</th>\n",
       "      <th>only_date</th>\n",
       "      <th>type</th>\n",
       "      <th>subtype</th>\n",
       "      <th>balance</th>\n",
       "      <th>name</th>\n",
       "      <th>person_id</th>\n",
       "      <th>suitability</th>\n",
       "      <th>dia_semana</th>\n",
       "    </tr>\n",
       "  </thead>\n",
       "  <tbody>\n",
       "    <tr>\n",
       "      <th>0</th>\n",
       "      <td>b7ebd81b-98f7-47ab-91f3-52bc80be57a6</td>\n",
       "      <td>BRL</td>\n",
       "      <td>-498.71</td>\n",
       "      <td>2023-07-20 03:57:57</td>\n",
       "      <td>Educação</td>\n",
       "      <td>1968bd13-dd25-4f88-bccc-5cff92d6811b</td>\n",
       "      <td>False</td>\n",
       "      <td>2023-07-20</td>\n",
       "      <td>BANK</td>\n",
       "      <td>SAVINGS_ACCOUNT</td>\n",
       "      <td>3826.72</td>\n",
       "      <td>Caixinha</td>\n",
       "      <td>644f5d18-5bfa-45f9-8aa7-401c05b3b9f2</td>\n",
       "      <td>conservador</td>\n",
       "      <td>Thursday</td>\n",
       "    </tr>\n",
       "    <tr>\n",
       "      <th>1</th>\n",
       "      <td>b8d83679-02ab-4241-b15d-11e9c0033864</td>\n",
       "      <td>BRL</td>\n",
       "      <td>-265.00</td>\n",
       "      <td>2023-07-23 05:17:06</td>\n",
       "      <td>Outras saídas</td>\n",
       "      <td>1968bd13-dd25-4f88-bccc-5cff92d6811b</td>\n",
       "      <td>False</td>\n",
       "      <td>2023-07-23</td>\n",
       "      <td>BANK</td>\n",
       "      <td>SAVINGS_ACCOUNT</td>\n",
       "      <td>3826.72</td>\n",
       "      <td>Caixinha</td>\n",
       "      <td>644f5d18-5bfa-45f9-8aa7-401c05b3b9f2</td>\n",
       "      <td>conservador</td>\n",
       "      <td>Sunday</td>\n",
       "    </tr>\n",
       "    <tr>\n",
       "      <th>2</th>\n",
       "      <td>99cab263-da5c-4706-9f2c-92cb779acaf7</td>\n",
       "      <td>BRL</td>\n",
       "      <td>-18.95</td>\n",
       "      <td>2023-06-26 05:54:25</td>\n",
       "      <td>Transporte</td>\n",
       "      <td>1968bd13-dd25-4f88-bccc-5cff92d6811b</td>\n",
       "      <td>False</td>\n",
       "      <td>2023-06-26</td>\n",
       "      <td>BANK</td>\n",
       "      <td>SAVINGS_ACCOUNT</td>\n",
       "      <td>3826.72</td>\n",
       "      <td>Caixinha</td>\n",
       "      <td>644f5d18-5bfa-45f9-8aa7-401c05b3b9f2</td>\n",
       "      <td>conservador</td>\n",
       "      <td>Monday</td>\n",
       "    </tr>\n",
       "  </tbody>\n",
       "</table>\n",
       "</div>"
      ],
      "text/plain": [
       "                                     id currency_code  amount  \\\n",
       "0  b7ebd81b-98f7-47ab-91f3-52bc80be57a6           BRL -498.71   \n",
       "1  b8d83679-02ab-4241-b15d-11e9c0033864           BRL -265.00   \n",
       "2  99cab263-da5c-4706-9f2c-92cb779acaf7           BRL  -18.95   \n",
       "\n",
       "                 date       category                            account_id  \\\n",
       "0 2023-07-20 03:57:57       Educação  1968bd13-dd25-4f88-bccc-5cff92d6811b   \n",
       "1 2023-07-23 05:17:06  Outras saídas  1968bd13-dd25-4f88-bccc-5cff92d6811b   \n",
       "2 2023-06-26 05:54:25     Transporte  1968bd13-dd25-4f88-bccc-5cff92d6811b   \n",
       "\n",
       "    isin  only_date  type          subtype  balance      name  \\\n",
       "0  False 2023-07-20  BANK  SAVINGS_ACCOUNT  3826.72  Caixinha   \n",
       "1  False 2023-07-23  BANK  SAVINGS_ACCOUNT  3826.72  Caixinha   \n",
       "2  False 2023-06-26  BANK  SAVINGS_ACCOUNT  3826.72  Caixinha   \n",
       "\n",
       "                              person_id  suitability dia_semana  \n",
       "0  644f5d18-5bfa-45f9-8aa7-401c05b3b9f2  conservador   Thursday  \n",
       "1  644f5d18-5bfa-45f9-8aa7-401c05b3b9f2  conservador     Sunday  \n",
       "2  644f5d18-5bfa-45f9-8aa7-401c05b3b9f2  conservador     Monday  "
      ]
     },
     "execution_count": 358,
     "metadata": {},
     "output_type": "execute_result"
    }
   ],
   "source": [
    "df.head(3)"
   ]
  },
  {
   "cell_type": "code",
   "execution_count": 359,
   "metadata": {},
   "outputs": [
    {
     "data": {
      "text/plain": [
       "dia_semana\n",
       "Tuesday      58171\n",
       "Wednesday    57940\n",
       "Sunday       57698\n",
       "Thursday     57655\n",
       "Monday       57569\n",
       "Friday       56448\n",
       "Saturday     54629\n",
       "Name: count, dtype: int64"
      ]
     },
     "execution_count": 359,
     "metadata": {},
     "output_type": "execute_result"
    }
   ],
   "source": [
    "df['dia_semana'].value_counts()"
   ]
  },
  {
   "cell_type": "code",
   "execution_count": null,
   "metadata": {},
   "outputs": [],
   "source": []
  }
 ],
 "metadata": {
  "kernelspec": {
   "display_name": "Python 3",
   "language": "python",
   "name": "python3"
  },
  "language_info": {
   "codemirror_mode": {
    "name": "ipython",
    "version": 3
   },
   "file_extension": ".py",
   "mimetype": "text/x-python",
   "name": "python",
   "nbconvert_exporter": "python",
   "pygments_lexer": "ipython3",
   "version": "3.11.4"
  },
  "orig_nbformat": 4
 },
 "nbformat": 4,
 "nbformat_minor": 2
}
