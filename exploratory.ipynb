{
 "cells": [
  {
   "cell_type": "code",
   "execution_count": 2,
   "metadata": {},
   "outputs": [],
   "source": [
    "import pandas as pd\n",
    "\n",
    "import matplotlib.pyplot as plt\n",
    "import seaborn as seaborn"
   ]
  },
  {
   "cell_type": "code",
   "execution_count": 3,
   "metadata": {},
   "outputs": [],
   "source": [
    "accounts = pd.read_csv(r'accounts.csv')\n",
    "person = pd.read_csv(r'person.csv')\n",
    "transactions = pd.read_csv(r'transactions.csv')"
   ]
  },
  {
   "cell_type": "code",
   "execution_count": 4,
   "metadata": {},
   "outputs": [
    {
     "name": "stdout",
     "output_type": "stream",
     "text": [
      "<class 'pandas.core.frame.DataFrame'>\n",
      "RangeIndex: 7569 entries, 0 to 7568\n",
      "Data columns (total 9 columns):\n",
      " #   Column         Non-Null Count  Dtype  \n",
      "---  ------         --------------  -----  \n",
      " 0   id             7569 non-null   object \n",
      " 1   type           7569 non-null   object \n",
      " 2   subtype        7569 non-null   object \n",
      " 3   balance        7569 non-null   float64\n",
      " 4   currency_code  7569 non-null   object \n",
      " 5   name           7569 non-null   object \n",
      " 6   person_id      7569 non-null   object \n",
      " 7   account_id     7569 non-null   object \n",
      " 8   date           7569 non-null   object \n",
      "dtypes: float64(1), object(8)\n",
      "memory usage: 532.3+ KB\n"
     ]
    }
   ],
   "source": [
    "accounts.info()"
   ]
  },
  {
   "cell_type": "code",
   "execution_count": 5,
   "metadata": {},
   "outputs": [
    {
     "name": "stdout",
     "output_type": "stream",
     "text": [
      "<class 'pandas.core.frame.DataFrame'>\n",
      "RangeIndex: 2531 entries, 0 to 2530\n",
      "Data columns (total 3 columns):\n",
      " #   Column       Non-Null Count  Dtype \n",
      "---  ------       --------------  ----- \n",
      " 0   id           2531 non-null   object\n",
      " 1   name         2531 non-null   object\n",
      " 2   suitability  2084 non-null   object\n",
      "dtypes: object(3)\n",
      "memory usage: 59.4+ KB\n"
     ]
    }
   ],
   "source": [
    "person.info()"
   ]
  },
  {
   "cell_type": "code",
   "execution_count": 6,
   "metadata": {},
   "outputs": [
    {
     "name": "stdout",
     "output_type": "stream",
     "text": [
      "<class 'pandas.core.frame.DataFrame'>\n",
      "RangeIndex: 400110 entries, 0 to 400109\n",
      "Data columns (total 6 columns):\n",
      " #   Column         Non-Null Count   Dtype  \n",
      "---  ------         --------------   -----  \n",
      " 0   id             400110 non-null  object \n",
      " 1   currency_code  400110 non-null  object \n",
      " 2   amount         400110 non-null  float64\n",
      " 3   date           400110 non-null  object \n",
      " 4   category       368501 non-null  object \n",
      " 5   account_id     400110 non-null  object \n",
      "dtypes: float64(1), object(5)\n",
      "memory usage: 18.3+ MB\n"
     ]
    }
   ],
   "source": [
    "transactions.info()"
   ]
  },
  {
   "cell_type": "markdown",
   "metadata": {},
   "source": [
    "- currency_code\n",
    "- suitability"
   ]
  },
  {
   "cell_type": "code",
   "execution_count": 7,
   "metadata": {},
   "outputs": [
    {
     "data": {
      "text/html": [
       "<div>\n",
       "<style scoped>\n",
       "    .dataframe tbody tr th:only-of-type {\n",
       "        vertical-align: middle;\n",
       "    }\n",
       "\n",
       "    .dataframe tbody tr th {\n",
       "        vertical-align: top;\n",
       "    }\n",
       "\n",
       "    .dataframe thead th {\n",
       "        text-align: right;\n",
       "    }\n",
       "</style>\n",
       "<table border=\"1\" class=\"dataframe\">\n",
       "  <thead>\n",
       "    <tr style=\"text-align: right;\">\n",
       "      <th></th>\n",
       "      <th>id</th>\n",
       "      <th>type</th>\n",
       "      <th>subtype</th>\n",
       "      <th>balance</th>\n",
       "      <th>currency_code</th>\n",
       "      <th>name</th>\n",
       "      <th>person_id</th>\n",
       "      <th>account_id</th>\n",
       "      <th>date</th>\n",
       "    </tr>\n",
       "  </thead>\n",
       "  <tbody>\n",
       "    <tr>\n",
       "      <th>0</th>\n",
       "      <td>1968bd13-dd25-4f88-bccc-5cff92d6811b</td>\n",
       "      <td>BANK</td>\n",
       "      <td>SAVINGS_ACCOUNT</td>\n",
       "      <td>3826.72</td>\n",
       "      <td>BRL</td>\n",
       "      <td>Caixinha</td>\n",
       "      <td>644f5d18-5bfa-45f9-8aa7-401c05b3b9f2</td>\n",
       "      <td>1968bd13-dd25-4f88-bccc-5cff92d6811b</td>\n",
       "      <td>2023-09-14 14:03:16</td>\n",
       "    </tr>\n",
       "    <tr>\n",
       "      <th>1</th>\n",
       "      <td>978f92cf-8d5b-437a-a046-cdaa9105624c</td>\n",
       "      <td>CREDIT</td>\n",
       "      <td>CREDIT_CARD</td>\n",
       "      <td>6311.67</td>\n",
       "      <td>BRL</td>\n",
       "      <td>Cartão de Crédito</td>\n",
       "      <td>644f5d18-5bfa-45f9-8aa7-401c05b3b9f2</td>\n",
       "      <td>978f92cf-8d5b-437a-a046-cdaa9105624c</td>\n",
       "      <td>2023-09-15 15:50:21</td>\n",
       "    </tr>\n",
       "    <tr>\n",
       "      <th>2</th>\n",
       "      <td>dcd96f70-8b16-42b0-a944-afec5d8305ce</td>\n",
       "      <td>CREDIT</td>\n",
       "      <td>CREDIT_CARD</td>\n",
       "      <td>7482.25</td>\n",
       "      <td>BRL</td>\n",
       "      <td>Cartão de Crédito</td>\n",
       "      <td>644f5d18-5bfa-45f9-8aa7-401c05b3b9f2</td>\n",
       "      <td>dcd96f70-8b16-42b0-a944-afec5d8305ce</td>\n",
       "      <td>2023-09-09 03:38:49</td>\n",
       "    </tr>\n",
       "    <tr>\n",
       "      <th>3</th>\n",
       "      <td>6c2a44fe-2ba7-4626-aaff-f244a0647eae</td>\n",
       "      <td>BANK</td>\n",
       "      <td>SAVINGS_ACCOUNT</td>\n",
       "      <td>5740.29</td>\n",
       "      <td>BRL</td>\n",
       "      <td>Caixinha</td>\n",
       "      <td>644f5d18-5bfa-45f9-8aa7-401c05b3b9f2</td>\n",
       "      <td>6c2a44fe-2ba7-4626-aaff-f244a0647eae</td>\n",
       "      <td>2023-09-12 14:21:21</td>\n",
       "    </tr>\n",
       "    <tr>\n",
       "      <th>4</th>\n",
       "      <td>abb359a2-3802-48e7-976b-8671e1de0884</td>\n",
       "      <td>BANK</td>\n",
       "      <td>CHECKING_ACCOUNT</td>\n",
       "      <td>5136.49</td>\n",
       "      <td>BRL</td>\n",
       "      <td>Conta Corrente</td>\n",
       "      <td>644f5d18-5bfa-45f9-8aa7-401c05b3b9f2</td>\n",
       "      <td>abb359a2-3802-48e7-976b-8671e1de0884</td>\n",
       "      <td>2023-09-12 04:10:04</td>\n",
       "    </tr>\n",
       "  </tbody>\n",
       "</table>\n",
       "</div>"
      ],
      "text/plain": [
       "                                     id    type           subtype  balance  \\\n",
       "0  1968bd13-dd25-4f88-bccc-5cff92d6811b    BANK   SAVINGS_ACCOUNT  3826.72   \n",
       "1  978f92cf-8d5b-437a-a046-cdaa9105624c  CREDIT       CREDIT_CARD  6311.67   \n",
       "2  dcd96f70-8b16-42b0-a944-afec5d8305ce  CREDIT       CREDIT_CARD  7482.25   \n",
       "3  6c2a44fe-2ba7-4626-aaff-f244a0647eae    BANK   SAVINGS_ACCOUNT  5740.29   \n",
       "4  abb359a2-3802-48e7-976b-8671e1de0884    BANK  CHECKING_ACCOUNT  5136.49   \n",
       "\n",
       "  currency_code               name                             person_id  \\\n",
       "0           BRL           Caixinha  644f5d18-5bfa-45f9-8aa7-401c05b3b9f2   \n",
       "1           BRL  Cartão de Crédito  644f5d18-5bfa-45f9-8aa7-401c05b3b9f2   \n",
       "2           BRL  Cartão de Crédito  644f5d18-5bfa-45f9-8aa7-401c05b3b9f2   \n",
       "3           BRL           Caixinha  644f5d18-5bfa-45f9-8aa7-401c05b3b9f2   \n",
       "4           BRL     Conta Corrente  644f5d18-5bfa-45f9-8aa7-401c05b3b9f2   \n",
       "\n",
       "                             account_id                 date  \n",
       "0  1968bd13-dd25-4f88-bccc-5cff92d6811b  2023-09-14 14:03:16  \n",
       "1  978f92cf-8d5b-437a-a046-cdaa9105624c  2023-09-15 15:50:21  \n",
       "2  dcd96f70-8b16-42b0-a944-afec5d8305ce  2023-09-09 03:38:49  \n",
       "3  6c2a44fe-2ba7-4626-aaff-f244a0647eae  2023-09-12 14:21:21  \n",
       "4  abb359a2-3802-48e7-976b-8671e1de0884  2023-09-12 04:10:04  "
      ]
     },
     "execution_count": 7,
     "metadata": {},
     "output_type": "execute_result"
    }
   ],
   "source": [
    "accounts.head()\n"
   ]
  },
  {
   "cell_type": "code",
   "execution_count": 8,
   "metadata": {},
   "outputs": [
    {
     "data": {
      "text/html": [
       "<div>\n",
       "<style scoped>\n",
       "    .dataframe tbody tr th:only-of-type {\n",
       "        vertical-align: middle;\n",
       "    }\n",
       "\n",
       "    .dataframe tbody tr th {\n",
       "        vertical-align: top;\n",
       "    }\n",
       "\n",
       "    .dataframe thead th {\n",
       "        text-align: right;\n",
       "    }\n",
       "</style>\n",
       "<table border=\"1\" class=\"dataframe\">\n",
       "  <thead>\n",
       "    <tr style=\"text-align: right;\">\n",
       "      <th>subtype</th>\n",
       "      <th>CHECKING_ACCOUNT</th>\n",
       "      <th>CREDIT_CARD</th>\n",
       "      <th>SAVINGS_ACCOUNT</th>\n",
       "    </tr>\n",
       "    <tr>\n",
       "      <th>name</th>\n",
       "      <th></th>\n",
       "      <th></th>\n",
       "      <th></th>\n",
       "    </tr>\n",
       "  </thead>\n",
       "  <tbody>\n",
       "    <tr>\n",
       "      <th>Caixinha</th>\n",
       "      <td>0</td>\n",
       "      <td>0</td>\n",
       "      <td>792</td>\n",
       "    </tr>\n",
       "    <tr>\n",
       "      <th>Cartão de Crédito</th>\n",
       "      <td>0</td>\n",
       "      <td>2619</td>\n",
       "      <td>0</td>\n",
       "    </tr>\n",
       "    <tr>\n",
       "      <th>Conta Corrente</th>\n",
       "      <td>2509</td>\n",
       "      <td>0</td>\n",
       "      <td>0</td>\n",
       "    </tr>\n",
       "    <tr>\n",
       "      <th>Conta Remunerada</th>\n",
       "      <td>0</td>\n",
       "      <td>0</td>\n",
       "      <td>804</td>\n",
       "    </tr>\n",
       "    <tr>\n",
       "      <th>Poupança</th>\n",
       "      <td>0</td>\n",
       "      <td>0</td>\n",
       "      <td>845</td>\n",
       "    </tr>\n",
       "  </tbody>\n",
       "</table>\n",
       "</div>"
      ],
      "text/plain": [
       "subtype            CHECKING_ACCOUNT  CREDIT_CARD  SAVINGS_ACCOUNT\n",
       "name                                                             \n",
       "Caixinha                          0            0              792\n",
       "Cartão de Crédito                 0         2619                0\n",
       "Conta Corrente                 2509            0                0\n",
       "Conta Remunerada                  0            0              804\n",
       "Poupança                          0            0              845"
      ]
     },
     "execution_count": 8,
     "metadata": {},
     "output_type": "execute_result"
    }
   ],
   "source": [
    "pd.crosstab(accounts['name'], accounts['subtype'])"
   ]
  },
  {
   "cell_type": "code",
   "execution_count": 9,
   "metadata": {},
   "outputs": [
    {
     "data": {
      "text/html": [
       "<div>\n",
       "<style scoped>\n",
       "    .dataframe tbody tr th:only-of-type {\n",
       "        vertical-align: middle;\n",
       "    }\n",
       "\n",
       "    .dataframe tbody tr th {\n",
       "        vertical-align: top;\n",
       "    }\n",
       "\n",
       "    .dataframe thead th {\n",
       "        text-align: right;\n",
       "    }\n",
       "</style>\n",
       "<table border=\"1\" class=\"dataframe\">\n",
       "  <thead>\n",
       "    <tr style=\"text-align: right;\">\n",
       "      <th></th>\n",
       "      <th>id</th>\n",
       "      <th>name</th>\n",
       "      <th>suitability</th>\n",
       "    </tr>\n",
       "  </thead>\n",
       "  <tbody>\n",
       "    <tr>\n",
       "      <th>0</th>\n",
       "      <td>644f5d18-5bfa-45f9-8aa7-401c05b3b9f2</td>\n",
       "      <td>Ana Julia Santos</td>\n",
       "      <td>conservador</td>\n",
       "    </tr>\n",
       "    <tr>\n",
       "      <th>1</th>\n",
       "      <td>01018c18-ecb5-4cb6-b16f-bece97935974</td>\n",
       "      <td>Emilly Moura</td>\n",
       "      <td>moderado-agressivo</td>\n",
       "    </tr>\n",
       "    <tr>\n",
       "      <th>2</th>\n",
       "      <td>65d3336e-dafd-4663-8a53-97792c847074</td>\n",
       "      <td>Luiz Miguel Caldeira</td>\n",
       "      <td>conservador</td>\n",
       "    </tr>\n",
       "    <tr>\n",
       "      <th>3</th>\n",
       "      <td>6a33c027-13f2-4fbf-8bbb-74e6438d11c8</td>\n",
       "      <td>Sarah Souza</td>\n",
       "      <td>moderado-conservador</td>\n",
       "    </tr>\n",
       "    <tr>\n",
       "      <th>4</th>\n",
       "      <td>55252085-c5d6-4b7d-b221-fd3ad76ba8e5</td>\n",
       "      <td>Samuel Oliveira</td>\n",
       "      <td>moderado-agressivo</td>\n",
       "    </tr>\n",
       "  </tbody>\n",
       "</table>\n",
       "</div>"
      ],
      "text/plain": [
       "                                     id                  name  \\\n",
       "0  644f5d18-5bfa-45f9-8aa7-401c05b3b9f2      Ana Julia Santos   \n",
       "1  01018c18-ecb5-4cb6-b16f-bece97935974          Emilly Moura   \n",
       "2  65d3336e-dafd-4663-8a53-97792c847074  Luiz Miguel Caldeira   \n",
       "3  6a33c027-13f2-4fbf-8bbb-74e6438d11c8           Sarah Souza   \n",
       "4  55252085-c5d6-4b7d-b221-fd3ad76ba8e5       Samuel Oliveira   \n",
       "\n",
       "            suitability  \n",
       "0           conservador  \n",
       "1    moderado-agressivo  \n",
       "2           conservador  \n",
       "3  moderado-conservador  \n",
       "4    moderado-agressivo  "
      ]
     },
     "execution_count": 9,
     "metadata": {},
     "output_type": "execute_result"
    }
   ],
   "source": [
    "person.head()"
   ]
  },
  {
   "cell_type": "code",
   "execution_count": 15,
   "metadata": {},
   "outputs": [
    {
     "data": {
      "text/html": [
       "<div>\n",
       "<style scoped>\n",
       "    .dataframe tbody tr th:only-of-type {\n",
       "        vertical-align: middle;\n",
       "    }\n",
       "\n",
       "    .dataframe tbody tr th {\n",
       "        vertical-align: top;\n",
       "    }\n",
       "\n",
       "    .dataframe thead th {\n",
       "        text-align: right;\n",
       "    }\n",
       "</style>\n",
       "<table border=\"1\" class=\"dataframe\">\n",
       "  <thead>\n",
       "    <tr style=\"text-align: right;\">\n",
       "      <th></th>\n",
       "      <th>suitability</th>\n",
       "      <th>proportion</th>\n",
       "    </tr>\n",
       "  </thead>\n",
       "  <tbody>\n",
       "    <tr>\n",
       "      <th>0</th>\n",
       "      <td>agressivo</td>\n",
       "      <td>0.213052</td>\n",
       "    </tr>\n",
       "    <tr>\n",
       "      <th>1</th>\n",
       "      <td>conservador</td>\n",
       "      <td>0.202495</td>\n",
       "    </tr>\n",
       "    <tr>\n",
       "      <th>2</th>\n",
       "      <td>moderado-agressivo</td>\n",
       "      <td>0.201536</td>\n",
       "    </tr>\n",
       "    <tr>\n",
       "      <th>3</th>\n",
       "      <td>moderado</td>\n",
       "      <td>0.196737</td>\n",
       "    </tr>\n",
       "    <tr>\n",
       "      <th>4</th>\n",
       "      <td>moderado-conservador</td>\n",
       "      <td>0.186180</td>\n",
       "    </tr>\n",
       "  </tbody>\n",
       "</table>\n",
       "</div>"
      ],
      "text/plain": [
       "            suitability  proportion\n",
       "0             agressivo    0.213052\n",
       "1           conservador    0.202495\n",
       "2    moderado-agressivo    0.201536\n",
       "3              moderado    0.196737\n",
       "4  moderado-conservador    0.186180"
      ]
     },
     "execution_count": 15,
     "metadata": {},
     "output_type": "execute_result"
    }
   ],
   "source": [
    "person['suitability'].value_counts(True).reset_index()"
   ]
  },
  {
   "cell_type": "code",
   "execution_count": null,
   "metadata": {},
   "outputs": [
    {
     "data": {
      "text/html": [
       "<div>\n",
       "<style scoped>\n",
       "    .dataframe tbody tr th:only-of-type {\n",
       "        vertical-align: middle;\n",
       "    }\n",
       "\n",
       "    .dataframe tbody tr th {\n",
       "        vertical-align: top;\n",
       "    }\n",
       "\n",
       "    .dataframe thead th {\n",
       "        text-align: right;\n",
       "    }\n",
       "</style>\n",
       "<table border=\"1\" class=\"dataframe\">\n",
       "  <thead>\n",
       "    <tr style=\"text-align: right;\">\n",
       "      <th></th>\n",
       "      <th>id</th>\n",
       "      <th>currency_code</th>\n",
       "      <th>amount</th>\n",
       "      <th>date</th>\n",
       "      <th>category</th>\n",
       "      <th>account_id</th>\n",
       "    </tr>\n",
       "  </thead>\n",
       "  <tbody>\n",
       "    <tr>\n",
       "      <th>0</th>\n",
       "      <td>b7ebd81b-98f7-47ab-91f3-52bc80be57a6</td>\n",
       "      <td>BRL</td>\n",
       "      <td>-498.71</td>\n",
       "      <td>2023-07-20 03:57:57</td>\n",
       "      <td>Educação</td>\n",
       "      <td>1968bd13-dd25-4f88-bccc-5cff92d6811b</td>\n",
       "    </tr>\n",
       "    <tr>\n",
       "      <th>1</th>\n",
       "      <td>b8d83679-02ab-4241-b15d-11e9c0033864</td>\n",
       "      <td>BRL</td>\n",
       "      <td>-265.00</td>\n",
       "      <td>2023-07-23 05:17:06</td>\n",
       "      <td>Outras saídas</td>\n",
       "      <td>1968bd13-dd25-4f88-bccc-5cff92d6811b</td>\n",
       "    </tr>\n",
       "    <tr>\n",
       "      <th>2</th>\n",
       "      <td>99cab263-da5c-4706-9f2c-92cb779acaf7</td>\n",
       "      <td>BRL</td>\n",
       "      <td>-18.95</td>\n",
       "      <td>2023-06-26 05:54:25</td>\n",
       "      <td>Transporte</td>\n",
       "      <td>1968bd13-dd25-4f88-bccc-5cff92d6811b</td>\n",
       "    </tr>\n",
       "    <tr>\n",
       "      <th>3</th>\n",
       "      <td>5a78f1f0-f541-440f-9d3d-c8c21373ffc8</td>\n",
       "      <td>BRL</td>\n",
       "      <td>-262.70</td>\n",
       "      <td>2023-06-21 00:34:08</td>\n",
       "      <td>Outras saídas</td>\n",
       "      <td>1968bd13-dd25-4f88-bccc-5cff92d6811b</td>\n",
       "    </tr>\n",
       "    <tr>\n",
       "      <th>4</th>\n",
       "      <td>fc4e9552-bb41-4757-8c16-ff2c584ee01b</td>\n",
       "      <td>BRL</td>\n",
       "      <td>-179.44</td>\n",
       "      <td>2023-08-05 01:09:42</td>\n",
       "      <td>Imposto, juros e multa</td>\n",
       "      <td>1968bd13-dd25-4f88-bccc-5cff92d6811b</td>\n",
       "    </tr>\n",
       "  </tbody>\n",
       "</table>\n",
       "</div>"
      ],
      "text/plain": [
       "                                     id currency_code  amount  \\\n",
       "0  b7ebd81b-98f7-47ab-91f3-52bc80be57a6           BRL -498.71   \n",
       "1  b8d83679-02ab-4241-b15d-11e9c0033864           BRL -265.00   \n",
       "2  99cab263-da5c-4706-9f2c-92cb779acaf7           BRL  -18.95   \n",
       "3  5a78f1f0-f541-440f-9d3d-c8c21373ffc8           BRL -262.70   \n",
       "4  fc4e9552-bb41-4757-8c16-ff2c584ee01b           BRL -179.44   \n",
       "\n",
       "                  date                category  \\\n",
       "0  2023-07-20 03:57:57                Educação   \n",
       "1  2023-07-23 05:17:06           Outras saídas   \n",
       "2  2023-06-26 05:54:25              Transporte   \n",
       "3  2023-06-21 00:34:08           Outras saídas   \n",
       "4  2023-08-05 01:09:42  Imposto, juros e multa   \n",
       "\n",
       "                             account_id  \n",
       "0  1968bd13-dd25-4f88-bccc-5cff92d6811b  \n",
       "1  1968bd13-dd25-4f88-bccc-5cff92d6811b  \n",
       "2  1968bd13-dd25-4f88-bccc-5cff92d6811b  \n",
       "3  1968bd13-dd25-4f88-bccc-5cff92d6811b  \n",
       "4  1968bd13-dd25-4f88-bccc-5cff92d6811b  "
      ]
     },
     "execution_count": 14,
     "metadata": {},
     "output_type": "execute_result"
    }
   ],
   "source": [
    "transactions.head()"
   ]
  },
  {
   "cell_type": "code",
   "execution_count": null,
   "metadata": {},
   "outputs": [
    {
     "data": {
      "text/plain": [
       "0"
      ]
     },
     "execution_count": 19,
     "metadata": {},
     "output_type": "execute_result"
    }
   ],
   "source": [
    "(transactions['id'].value_counts() > 1).sum()"
   ]
  },
  {
   "cell_type": "code",
   "execution_count": null,
   "metadata": {},
   "outputs": [
    {
     "data": {
      "text/plain": [
       "currency_code\n",
       "BRL    400110\n",
       "Name: count, dtype: int64"
      ]
     },
     "execution_count": 20,
     "metadata": {},
     "output_type": "execute_result"
    }
   ],
   "source": [
    "transactions['currency_code'].value_counts()"
   ]
  },
  {
   "cell_type": "code",
   "execution_count": 14,
   "metadata": {},
   "outputs": [
    {
     "data": {
      "text/html": [
       "<div>\n",
       "<style scoped>\n",
       "    .dataframe tbody tr th:only-of-type {\n",
       "        vertical-align: middle;\n",
       "    }\n",
       "\n",
       "    .dataframe tbody tr th {\n",
       "        vertical-align: top;\n",
       "    }\n",
       "\n",
       "    .dataframe thead th {\n",
       "        text-align: right;\n",
       "    }\n",
       "</style>\n",
       "<table border=\"1\" class=\"dataframe\">\n",
       "  <thead>\n",
       "    <tr style=\"text-align: right;\">\n",
       "      <th></th>\n",
       "      <th>category</th>\n",
       "      <th>proportion</th>\n",
       "    </tr>\n",
       "  </thead>\n",
       "  <tbody>\n",
       "    <tr>\n",
       "      <th>0</th>\n",
       "      <td>Recebido</td>\n",
       "      <td>0.097435</td>\n",
       "    </tr>\n",
       "    <tr>\n",
       "      <th>1</th>\n",
       "      <td>Transporte</td>\n",
       "      <td>0.092670</td>\n",
       "    </tr>\n",
       "    <tr>\n",
       "      <th>2</th>\n",
       "      <td>Moradia</td>\n",
       "      <td>0.092648</td>\n",
       "    </tr>\n",
       "    <tr>\n",
       "      <th>3</th>\n",
       "      <td>Imposto, juros e multa</td>\n",
       "      <td>0.092190</td>\n",
       "    </tr>\n",
       "    <tr>\n",
       "      <th>4</th>\n",
       "      <td>Compras</td>\n",
       "      <td>0.091829</td>\n",
       "    </tr>\n",
       "    <tr>\n",
       "      <th>5</th>\n",
       "      <td>Outras saídas</td>\n",
       "      <td>0.091826</td>\n",
       "    </tr>\n",
       "    <tr>\n",
       "      <th>6</th>\n",
       "      <td>Alimentação</td>\n",
       "      <td>0.089221</td>\n",
       "    </tr>\n",
       "    <tr>\n",
       "      <th>7</th>\n",
       "      <td>Investimento</td>\n",
       "      <td>0.088681</td>\n",
       "    </tr>\n",
       "    <tr>\n",
       "      <th>8</th>\n",
       "      <td>Lazer</td>\n",
       "      <td>0.088410</td>\n",
       "    </tr>\n",
       "    <tr>\n",
       "      <th>9</th>\n",
       "      <td>Educação</td>\n",
       "      <td>0.087712</td>\n",
       "    </tr>\n",
       "    <tr>\n",
       "      <th>10</th>\n",
       "      <td>Saúde</td>\n",
       "      <td>0.087378</td>\n",
       "    </tr>\n",
       "  </tbody>\n",
       "</table>\n",
       "</div>"
      ],
      "text/plain": [
       "                  category  proportion\n",
       "0                 Recebido    0.097435\n",
       "1               Transporte    0.092670\n",
       "2                  Moradia    0.092648\n",
       "3   Imposto, juros e multa    0.092190\n",
       "4                  Compras    0.091829\n",
       "5            Outras saídas    0.091826\n",
       "6              Alimentação    0.089221\n",
       "7             Investimento    0.088681\n",
       "8                    Lazer    0.088410\n",
       "9                 Educação    0.087712\n",
       "10                   Saúde    0.087378"
      ]
     },
     "execution_count": 14,
     "metadata": {},
     "output_type": "execute_result"
    }
   ],
   "source": [
    "transactions['category'].value_counts(True).reset_index()"
   ]
  },
  {
   "cell_type": "code",
   "execution_count": null,
   "metadata": {},
   "outputs": [
    {
     "data": {
      "text/plain": [
       "amount\n",
       "False    331526\n",
       "True      68584\n",
       "Name: count, dtype: int64"
      ]
     },
     "execution_count": 25,
     "metadata": {},
     "output_type": "execute_result"
    }
   ],
   "source": [
    "(transactions['amount'] > 0).value_counts()"
   ]
  },
  {
   "cell_type": "code",
   "execution_count": null,
   "metadata": {},
   "outputs": [],
   "source": [
    "transactions['isin'] = (transactions['amount'] > 0)"
   ]
  },
  {
   "cell_type": "code",
   "execution_count": null,
   "metadata": {},
   "outputs": [
    {
     "data": {
      "text/html": [
       "<div>\n",
       "<style scoped>\n",
       "    .dataframe tbody tr th:only-of-type {\n",
       "        vertical-align: middle;\n",
       "    }\n",
       "\n",
       "    .dataframe tbody tr th {\n",
       "        vertical-align: top;\n",
       "    }\n",
       "\n",
       "    .dataframe thead th {\n",
       "        text-align: right;\n",
       "    }\n",
       "</style>\n",
       "<table border=\"1\" class=\"dataframe\">\n",
       "  <thead>\n",
       "    <tr style=\"text-align: right;\">\n",
       "      <th>isin</th>\n",
       "      <th>False</th>\n",
       "      <th>True</th>\n",
       "    </tr>\n",
       "    <tr>\n",
       "      <th>category</th>\n",
       "      <th></th>\n",
       "      <th></th>\n",
       "    </tr>\n",
       "  </thead>\n",
       "  <tbody>\n",
       "    <tr>\n",
       "      <th>Alimentação</th>\n",
       "      <td>32878</td>\n",
       "      <td>0</td>\n",
       "    </tr>\n",
       "    <tr>\n",
       "      <th>Compras</th>\n",
       "      <td>33839</td>\n",
       "      <td>0</td>\n",
       "    </tr>\n",
       "    <tr>\n",
       "      <th>Educação</th>\n",
       "      <td>32322</td>\n",
       "      <td>0</td>\n",
       "    </tr>\n",
       "    <tr>\n",
       "      <th>Imposto, juros e multa</th>\n",
       "      <td>33972</td>\n",
       "      <td>0</td>\n",
       "    </tr>\n",
       "    <tr>\n",
       "      <th>Investimento</th>\n",
       "      <td>0</td>\n",
       "      <td>32679</td>\n",
       "    </tr>\n",
       "    <tr>\n",
       "      <th>Lazer</th>\n",
       "      <td>32579</td>\n",
       "      <td>0</td>\n",
       "    </tr>\n",
       "    <tr>\n",
       "      <th>Moradia</th>\n",
       "      <td>34141</td>\n",
       "      <td>0</td>\n",
       "    </tr>\n",
       "    <tr>\n",
       "      <th>Outras saídas</th>\n",
       "      <td>33838</td>\n",
       "      <td>0</td>\n",
       "    </tr>\n",
       "    <tr>\n",
       "      <th>Recebido</th>\n",
       "      <td>0</td>\n",
       "      <td>35905</td>\n",
       "    </tr>\n",
       "    <tr>\n",
       "      <th>Saúde</th>\n",
       "      <td>32199</td>\n",
       "      <td>0</td>\n",
       "    </tr>\n",
       "    <tr>\n",
       "      <th>Transporte</th>\n",
       "      <td>34149</td>\n",
       "      <td>0</td>\n",
       "    </tr>\n",
       "  </tbody>\n",
       "</table>\n",
       "</div>"
      ],
      "text/plain": [
       "isin                    False  True \n",
       "category                            \n",
       "Alimentação             32878      0\n",
       "Compras                 33839      0\n",
       "Educação                32322      0\n",
       "Imposto, juros e multa  33972      0\n",
       "Investimento                0  32679\n",
       "Lazer                   32579      0\n",
       "Moradia                 34141      0\n",
       "Outras saídas           33838      0\n",
       "Recebido                    0  35905\n",
       "Saúde                   32199      0\n",
       "Transporte              34149      0"
      ]
     },
     "execution_count": 30,
     "metadata": {},
     "output_type": "execute_result"
    }
   ],
   "source": [
    "pd.crosstab(transactions['category'], transactions['isin'])"
   ]
  },
  {
   "cell_type": "code",
   "execution_count": null,
   "metadata": {},
   "outputs": [
    {
     "data": {
      "image/png": "[encoded data removed]",
      "text/plain": [
       "<Figure size 1000x600 with 1 Axes>"
      ]
     },
     "metadata": {},
     "output_type": "display_data"
    }
   ],
   "source": [
    "import seaborn as sns\n",
    "plt.figure(figsize=(10,6))\n",
    "#inserindo os boxplots\n",
    "sns.boxplot(data=transactions, x='category', y='amount', palette='viridis');\n",
    "plt.xticks(rotation=90);"
   ]
  },
  {
   "cell_type": "code",
   "execution_count": null,
   "metadata": {},
   "outputs": [
    {
     "name": "stdout",
     "output_type": "stream",
     "text": [
      "<class 'pandas.core.frame.DataFrame'>\n",
      "RangeIndex: 400110 entries, 0 to 400109\n",
      "Data columns (total 7 columns):\n",
      " #   Column         Non-Null Count   Dtype  \n",
      "---  ------         --------------   -----  \n",
      " 0   id             400110 non-null  object \n",
      " 1   currency_code  400110 non-null  object \n",
      " 2   amount         400110 non-null  float64\n",
      " 3   date           400110 non-null  object \n",
      " 4   category       368501 non-null  object \n",
      " 5   account_id     400110 non-null  object \n",
      " 6   isin           400110 non-null  bool   \n",
      "dtypes: bool(1), float64(1), object(5)\n",
      "memory usage: 18.7+ MB\n"
     ]
    }
   ],
   "source": [
    "transactions.info()"
   ]
  },
  {
   "cell_type": "code",
   "execution_count": 18,
   "metadata": {},
   "outputs": [
    {
     "data": {
      "text/plain": [
       "0         2023-07-20\n",
       "1         2023-07-23\n",
       "2         2023-06-26\n",
       "3         2023-06-21\n",
       "4         2023-08-05\n",
       "             ...    \n",
       "400105    2022-12-02\n",
       "400106    2023-07-22\n",
       "400107    2023-07-24\n",
       "400108    2023-06-25\n",
       "400109    2023-06-17\n",
       "Name: date, Length: 400110, dtype: object"
      ]
     },
     "execution_count": 18,
     "metadata": {},
     "output_type": "execute_result"
    }
   ],
   "source": [
    "transactions['date'] = pd.to_datetime(transactions['date'])\n",
    "transactions['date'].dt.date"
   ]
  },
  {
   "cell_type": "code",
   "execution_count": 19,
   "metadata": {},
   "outputs": [
    {
     "data": {
      "text/html": [
       "<div>\n",
       "<style scoped>\n",
       "    .dataframe tbody tr th:only-of-type {\n",
       "        vertical-align: middle;\n",
       "    }\n",
       "\n",
       "    .dataframe tbody tr th {\n",
       "        vertical-align: top;\n",
       "    }\n",
       "\n",
       "    .dataframe thead th {\n",
       "        text-align: right;\n",
       "    }\n",
       "</style>\n",
       "<table border=\"1\" class=\"dataframe\">\n",
       "  <thead>\n",
       "    <tr style=\"text-align: right;\">\n",
       "      <th></th>\n",
       "      <th>id</th>\n",
       "      <th>currency_code</th>\n",
       "      <th>amount</th>\n",
       "      <th>date</th>\n",
       "      <th>category</th>\n",
       "      <th>account_id</th>\n",
       "      <th>only_date</th>\n",
       "    </tr>\n",
       "  </thead>\n",
       "  <tbody>\n",
       "    <tr>\n",
       "      <th>0</th>\n",
       "      <td>b7ebd81b-98f7-47ab-91f3-52bc80be57a6</td>\n",
       "      <td>BRL</td>\n",
       "      <td>-498.71</td>\n",
       "      <td>2023-07-20 03:57:57</td>\n",
       "      <td>Educação</td>\n",
       "      <td>1968bd13-dd25-4f88-bccc-5cff92d6811b</td>\n",
       "      <td>2023-07-20</td>\n",
       "    </tr>\n",
       "    <tr>\n",
       "      <th>1</th>\n",
       "      <td>b8d83679-02ab-4241-b15d-11e9c0033864</td>\n",
       "      <td>BRL</td>\n",
       "      <td>-265.00</td>\n",
       "      <td>2023-07-23 05:17:06</td>\n",
       "      <td>Outras saídas</td>\n",
       "      <td>1968bd13-dd25-4f88-bccc-5cff92d6811b</td>\n",
       "      <td>2023-07-23</td>\n",
       "    </tr>\n",
       "    <tr>\n",
       "      <th>2</th>\n",
       "      <td>99cab263-da5c-4706-9f2c-92cb779acaf7</td>\n",
       "      <td>BRL</td>\n",
       "      <td>-18.95</td>\n",
       "      <td>2023-06-26 05:54:25</td>\n",
       "      <td>Transporte</td>\n",
       "      <td>1968bd13-dd25-4f88-bccc-5cff92d6811b</td>\n",
       "      <td>2023-06-26</td>\n",
       "    </tr>\n",
       "    <tr>\n",
       "      <th>3</th>\n",
       "      <td>5a78f1f0-f541-440f-9d3d-c8c21373ffc8</td>\n",
       "      <td>BRL</td>\n",
       "      <td>-262.70</td>\n",
       "      <td>2023-06-21 00:34:08</td>\n",
       "      <td>Outras saídas</td>\n",
       "      <td>1968bd13-dd25-4f88-bccc-5cff92d6811b</td>\n",
       "      <td>2023-06-21</td>\n",
       "    </tr>\n",
       "    <tr>\n",
       "      <th>4</th>\n",
       "      <td>fc4e9552-bb41-4757-8c16-ff2c584ee01b</td>\n",
       "      <td>BRL</td>\n",
       "      <td>-179.44</td>\n",
       "      <td>2023-08-05 01:09:42</td>\n",
       "      <td>Imposto, juros e multa</td>\n",
       "      <td>1968bd13-dd25-4f88-bccc-5cff92d6811b</td>\n",
       "      <td>2023-08-05</td>\n",
       "    </tr>\n",
       "  </tbody>\n",
       "</table>\n",
       "</div>"
      ],
      "text/plain": [
       "                                     id currency_code  amount  \\\n",
       "0  b7ebd81b-98f7-47ab-91f3-52bc80be57a6           BRL -498.71   \n",
       "1  b8d83679-02ab-4241-b15d-11e9c0033864           BRL -265.00   \n",
       "2  99cab263-da5c-4706-9f2c-92cb779acaf7           BRL  -18.95   \n",
       "3  5a78f1f0-f541-440f-9d3d-c8c21373ffc8           BRL -262.70   \n",
       "4  fc4e9552-bb41-4757-8c16-ff2c584ee01b           BRL -179.44   \n",
       "\n",
       "                 date                category  \\\n",
       "0 2023-07-20 03:57:57                Educação   \n",
       "1 2023-07-23 05:17:06           Outras saídas   \n",
       "2 2023-06-26 05:54:25              Transporte   \n",
       "3 2023-06-21 00:34:08           Outras saídas   \n",
       "4 2023-08-05 01:09:42  Imposto, juros e multa   \n",
       "\n",
       "                             account_id   only_date  \n",
       "0  1968bd13-dd25-4f88-bccc-5cff92d6811b  2023-07-20  \n",
       "1  1968bd13-dd25-4f88-bccc-5cff92d6811b  2023-07-23  \n",
       "2  1968bd13-dd25-4f88-bccc-5cff92d6811b  2023-06-26  \n",
       "3  1968bd13-dd25-4f88-bccc-5cff92d6811b  2023-06-21  \n",
       "4  1968bd13-dd25-4f88-bccc-5cff92d6811b  2023-08-05  "
      ]
     },
     "execution_count": 19,
     "metadata": {},
     "output_type": "execute_result"
    }
   ],
   "source": [
    "transactions['only_date'] = transactions['date'].dt.date\n",
    "transactions.head()"
   ]
  },
  {
   "cell_type": "code",
   "execution_count": 21,
   "metadata": {},
   "outputs": [
    {
     "data": {
      "text/html": [
       "<div>\n",
       "<style scoped>\n",
       "    .dataframe tbody tr th:only-of-type {\n",
       "        vertical-align: middle;\n",
       "    }\n",
       "\n",
       "    .dataframe tbody tr th {\n",
       "        vertical-align: top;\n",
       "    }\n",
       "\n",
       "    .dataframe thead th {\n",
       "        text-align: right;\n",
       "    }\n",
       "</style>\n",
       "<table border=\"1\" class=\"dataframe\">\n",
       "  <thead>\n",
       "    <tr style=\"text-align: right;\">\n",
       "      <th></th>\n",
       "      <th>only_date</th>\n",
       "      <th>count</th>\n",
       "    </tr>\n",
       "  </thead>\n",
       "  <tbody>\n",
       "    <tr>\n",
       "      <th>0</th>\n",
       "      <td>2023-06-30</td>\n",
       "      <td>4559</td>\n",
       "    </tr>\n",
       "    <tr>\n",
       "      <th>1</th>\n",
       "      <td>2023-07-09</td>\n",
       "      <td>4546</td>\n",
       "    </tr>\n",
       "    <tr>\n",
       "      <th>2</th>\n",
       "      <td>2023-06-29</td>\n",
       "      <td>4544</td>\n",
       "    </tr>\n",
       "    <tr>\n",
       "      <th>3</th>\n",
       "      <td>2023-06-28</td>\n",
       "      <td>4537</td>\n",
       "    </tr>\n",
       "    <tr>\n",
       "      <th>4</th>\n",
       "      <td>2023-07-07</td>\n",
       "      <td>4518</td>\n",
       "    </tr>\n",
       "    <tr>\n",
       "      <th>5</th>\n",
       "      <td>2023-07-23</td>\n",
       "      <td>4506</td>\n",
       "    </tr>\n",
       "    <tr>\n",
       "      <th>6</th>\n",
       "      <td>2023-06-27</td>\n",
       "      <td>4506</td>\n",
       "    </tr>\n",
       "    <tr>\n",
       "      <th>7</th>\n",
       "      <td>2023-06-22</td>\n",
       "      <td>4501</td>\n",
       "    </tr>\n",
       "    <tr>\n",
       "      <th>8</th>\n",
       "      <td>2023-07-04</td>\n",
       "      <td>4499</td>\n",
       "    </tr>\n",
       "    <tr>\n",
       "      <th>9</th>\n",
       "      <td>2023-07-28</td>\n",
       "      <td>4492</td>\n",
       "    </tr>\n",
       "  </tbody>\n",
       "</table>\n",
       "</div>"
      ],
      "text/plain": [
       "    only_date  count\n",
       "0  2023-06-30   4559\n",
       "1  2023-07-09   4546\n",
       "2  2023-06-29   4544\n",
       "3  2023-06-28   4537\n",
       "4  2023-07-07   4518\n",
       "5  2023-07-23   4506\n",
       "6  2023-06-27   4506\n",
       "7  2023-06-22   4501\n",
       "8  2023-07-04   4499\n",
       "9  2023-07-28   4492"
      ]
     },
     "execution_count": 21,
     "metadata": {},
     "output_type": "execute_result"
    }
   ],
   "source": [
    "date_graf = transactions['only_date'].value_counts().reset_index()\n",
    "date_graf.head(10)"
   ]
  },
  {
   "cell_type": "code",
   "execution_count": null,
   "metadata": {},
   "outputs": [
    {
     "data": {
      "text/plain": [
       "<BarContainer object of 364 artists>"
      ]
     },
     "execution_count": 58,
     "metadata": {},
     "output_type": "execute_result"
    },
    {
     "data": {
      "image/png": "[encoded data removed]",
      "text/plain": [
       "<Figure size 1000x600 with 1 Axes>"
      ]
     },
     "metadata": {},
     "output_type": "display_data"
    }
   ],
   "source": [
    "plt.figure(figsize=(10, 6))\n",
    "plt.bar(x=date_graf['only_date'], height=date_graf['count'])"
   ]
  },
  {
   "cell_type": "code",
   "execution_count": null,
   "metadata": {},
   "outputs": [],
   "source": []
  }
 ],
 "metadata": {
  "kernelspec": {
   "display_name": "Python 3",
   "language": "python",
   "name": "python3"
  },
  "language_info": {
   "codemirror_mode": {
    "name": "ipython",
    "version": 3
   },
   "file_extension": ".py",
   "mimetype": "text/x-python",
   "name": "python",
   "nbconvert_exporter": "python",
   "pygments_lexer": "ipython3",
   "version": "3.11.6"
  },
  "orig_nbformat": 4
 },
 "nbformat": 4,
 "nbformat_minor": 2
}
